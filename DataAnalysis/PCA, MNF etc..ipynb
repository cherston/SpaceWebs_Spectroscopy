{
 "cells": [
  {
   "cell_type": "code",
   "execution_count": 250,
   "metadata": {
    "collapsed": false
   },
   "outputs": [],
   "source": [
    "#%matplotlib inline\n",
    "import numpy as np\n",
    "import matplotlib.pyplot as plt\n",
    "import pysptools.noise as noise\n",
    "from sklearn.discriminant_analysis import QuadraticDiscriminantAnalysis, LinearDiscriminantAnalysis\n",
    "from sklearn.svm import SVC"
   ]
  },
  {
   "cell_type": "code",
   "execution_count": 251,
   "metadata": {
    "collapsed": false
   },
   "outputs": [],
   "source": [
    "\n",
    "#from taking n purest pixels \n",
    "purest_pixels_dict = np.load('./purest_pixels_dict.npy').item()\n",
    "\n",
    "#from subtracting out signal from background\n",
    "pure_signal_dict = np.load('./pure_signal_dict.npy').item()\n",
    "\n",
    "#TEST DATA\n",
    "test_pure_signal_dict = np.load('../TestDataAnalysis/ML_TestData_pure_signal_dict.npy')"
   ]
  },
  {
   "cell_type": "code",
   "execution_count": 252,
   "metadata": {
    "collapsed": false
   },
   "outputs": [],
   "source": [
    "#http://evols.library.manoa.hawaii.edu/bitstream/handle/10524/35872/vol3-Poop-Que(LO).pdf#page=11\n",
    "#Olivenza: Took average for LL chondrite \n",
    "#'H' has about 25-30% total Iron (with over half in metallic form =>strongly magnetic)\n",
    "#L contains 20-25% (with 5-10% in uncombined metal state)\n",
    "#'LL' contain 19-22% iron (with only 0.3-3% metallic iron)\n",
    "CLASSIFICATION_PER_SPECIMEN =  {'Abee':'EH4', 'Acapulco':'Acapulcoite', 'Allende':'CV3','Brownsfield':'H3.7',\n",
    "                                'Estacado':'H6', 'Estacado2':'H6', 'Gibeon':'IronIva', 'Hessle':'H5', \n",
    "                                'Holbrook':\"L/LL6\", 'Homestead':'L5','Homestead2':'L5','Millbilille':'Eucrite-mmict',\n",
    "                                'Olivenza':\"LL5\", 'Peekshill':'H6',\n",
    "                                'PutnamCounty':'IronIva', 'Soku':'LL4', 'Steinbach1':'IronIva', 'Steinbach2':'IronIva', \n",
    "                                'Sutton':'H5','Toluca1':'IronIAB-sLL', 'Toluca2':'IronIAB-sLL', 'Toluca3':'IronIAB-sLL', \n",
    "                                'TolucaBig':'IronIAB-sLL'}\n",
    "\n",
    "IRON_CATEGORY_PER_SPECIMEN = {'Abee':32.52, 'Acapulco':27.5, 'Allende':23.85,'Brownsfield':'H','Estacado':27.88, \n",
    "                                'Estacado2':27.88, 'Gibeon':91.8, 'Hessle':'H', 'Holbrook':\"L/LL\", 'Homestead':'L',\n",
    "                                'Homestead2':'L','Millbilille':'L','Olivenza':\"LL\", 'Peekshill':'H',\n",
    "                                'PutnamCounty':91.57, 'Soku':'LL', 'Steinbach1':'HH', 'Steinbach2':'HH', 'Sutton':'H', \n",
    "                                'Toluca1':91, 'Toluca2':91, 'Toluca3':91, 'TolucaBig':91}\n",
    "\n",
    "IRON_ALL_CATEGORIZED = {'Abee':'H', 'Acapulco':'H', 'Allende':'L','Brownsfield':'H','Estacado':'H', \n",
    "                                'Estacado2':'H', 'Gibeon':'HH', 'Hessle':'H', 'Holbrook':'L/LL', 'Homestead':'L',\n",
    "                                'Homestead2':'L','Millbilille':'L','Olivenza':\"LL\", 'Peekshill':'H',\n",
    "                                'PutnamCounty':'HH', 'Soku':'LL', 'Steinbach1':'HH', 'Steinbach2':'HH', 'Sutton':'H', \n",
    "                                'Toluca1':'HH', 'Toluca2':'HH', 'Toluca3':'HH', 'TolucaBig':'HH'}\n",
    "\n",
    "IRON_SIMPLE_CATEGORIZED = {'Abee':'L', 'Acapulco':'L', 'Allende':'L','Brownsfield':'L','Estacado':'L', \n",
    "                                'Estacado2':'L', 'Gibeon':'HH', 'Hessle':'L', 'Holbrook':\"L\", 'Homestead':'L',\n",
    "                                'Homestead2':'L','Millbilille':'L','Olivenza':\"L\", 'Peekshill':'L',\n",
    "                                'PutnamCounty':'HH', 'Soku':'L', 'Steinbach1':'HH', 'Steinbach2':'HH', 'Sutton':'L', \n",
    "                                'Toluca1':'HH', 'Toluca2':'HH', 'Toluca3':'HH', 'TolucaBig':'HH'}\n",
    "\n",
    "IRON_SIMPLE_NUMERICAL = {'Abee':0, 'Acapulco':0, 'Allende':0,'Brownsfield':0,'Estacado':0, \n",
    "                                'Estacado2':0, 'Gibeon':1, 'Hessle':0, 'Holbrook':0, 'Homestead':0,\n",
    "                                'Homestead2':0,'Millbilille':0,'Olivenza':0, 'Peekshill':0,\n",
    "                                'PutnamCounty':1, 'Soku':0, 'Steinbach1':1, 'Steinbach2':1, 'Sutton':0, \n",
    "                                'Toluca1':1, 'Toluca2':1, 'Toluca3':1, 'TolucaBig':1}\n",
    "\n",
    "IRON_PERCENTAGE_IF_AVAILABLE = {'Abee':32.52, 'Acapulco':27.5, 'Allende':23.85,'Estacado':27.88, \n",
    "                                'Estacado2':27.88, 'Gibeon':91.8, 'PutnamCounty':91.57,'Toluca1':91, \n",
    "                                'Toluca2':91, 'Toluca3':91, 'TolucaBig':91}\n",
    "\n",
    "COLORS = {'Abee':'darkslateblue', 'Acapulco':'green', 'Allende':'blue','Brownsfield':'yellow',\n",
    "                                'Estacado':'purple', 'Estacado2':'brown', 'Gibeon':'black', 'Hessle':'lime', \n",
    "                                'Holbrook':\"orange\", 'Homestead':'grey','Homestead2':'lightgreen',\n",
    "                                  'Millbilille':'lightcoral',\n",
    "                                'Olivenza':\"c\", 'Peekshill':'cyan',\n",
    "                                'PutnamCounty':'pink', 'Soku':'silver', 'Steinbach1':'maroon', 'Steinbach2':'fuchsia', \n",
    "                                'Sutton':'lawngreen','Toluca1':'cyan', 'Toluca2':'ivory', 'Toluca3':'olive', \n",
    "                                'TolucaBig':'red'}\n"
   ]
  },
  {
   "cell_type": "code",
   "execution_count": 253,
   "metadata": {
    "collapsed": false
   },
   "outputs": [
    {
     "name": "stdout",
     "output_type": "stream",
     "text": [
      "(76, 6)\n",
      "(76,)\n",
      "(76,)\n"
     ]
    }
   ],
   "source": [
    "\n",
    "only_HH_and_3L_data = []\n",
    "only_HH_and_3L_classes = [] \n",
    "only_HH_and_3L_weightings = []\n",
    "high = 0\n",
    "for i,sample in enumerate(pure_signal_dict): \n",
    "    for j,row in enumerate(pure_signal_dict[sample]):\n",
    "        if IRON_ALL_CATEGORIZED[sample] == 'HH':\n",
    "            only_HH_and_3L_data.append(row)\n",
    "            only_HH_and_3L_classes.append(1)\n",
    "            only_HH_and_3L_weightings.append(1.0/len(pure_signal_dict[sample])) \n",
    "        elif IRON_ALL_CATEGORIZED[sample] == 'L' or IRON_ALL_CATEGORIZED[sample] == 'LL' or IRON_ALL_CATEGORIZED[sample] == 'L/LL':\n",
    "            only_HH_and_3L_data.append(row)\n",
    "            only_HH_and_3L_classes.append(0)\n",
    "            only_HH_and_3L_weightings.append(1.0/len(pure_signal_dict[sample])) \n",
    "        else:\n",
    "            high += 1\n",
    "            \n",
    "print np.shape(only_HH_and_3L_data)\n",
    "print np.shape(only_HH_and_3L_classes)\n",
    "print np.shape(only_HH_and_3L_weightings)"
   ]
  },
  {
   "cell_type": "code",
   "execution_count": 254,
   "metadata": {
    "collapsed": false
   },
   "outputs": [
    {
     "name": "stdout",
     "output_type": "stream",
     "text": [
      "(76,)\n",
      "(76,)\n",
      "0\n"
     ]
    }
   ],
   "source": [
    "only_HH_and_3L_separated_data = []\n",
    "only_HH_and_3L_separated_classes = []\n",
    "only_HH_and_3L_separated_weightings = []\n",
    "\n",
    "high = 0\n",
    "for i,sample in enumerate(pure_signal_dict): \n",
    "    if IRON_ALL_CATEGORIZED[sample] == 'H':\n",
    "        continue\n",
    "    for j,row in enumerate(pure_signal_dict[sample]):\n",
    "        if IRON_ALL_CATEGORIZED[sample] == 'HH':\n",
    "            only_HH_and_3L_separated_classes.append(1)\n",
    "            only_HH_and_3L_separated_data.append(row)\n",
    "            only_HH_and_3L_separated_weightings.append(1.0/len(pure_signal_dict[sample]))\n",
    "        elif IRON_ALL_CATEGORIZED[sample] == 'L':\n",
    "            only_HH_and_3L_separated_classes.append(0)\n",
    "            only_HH_and_3L_separated_data.append(row)\n",
    "            only_HH_and_3L_separated_weightings.append(1.0/len(pure_signal_dict[sample]))\n",
    "        elif IRON_ALL_CATEGORIZED[sample] == 'LL' or IRON_ALL_CATEGORIZED[sample] == 'L/LL':\n",
    "            only_HH_and_3L_separated_classes.append(2)\n",
    "            only_HH_and_3L_separated_data.append(row)\n",
    "            only_HH_and_3L_separated_weightings.append(1.0/len(pure_signal_dict[sample]))\n",
    "        else:\n",
    "            high += 1\n",
    "\n",
    "\n",
    "print np.shape(only_HH_and_3L_separated_weightings)\n",
    "print np.shape(only_HH_and_3L_separated_classes)\n",
    "print high\n",
    "       "
   ]
  },
  {
   "cell_type": "code",
   "execution_count": 255,
   "metadata": {
    "collapsed": false
   },
   "outputs": [
    {
     "name": "stdout",
     "output_type": "stream",
     "text": [
      "(229, 6)\n",
      "(229,)\n"
     ]
    }
   ],
   "source": [
    "#create matrix of all data samples (no classes)\n",
    "all_data = []\n",
    "all_data_simplified_classes = []\n",
    "all_data_standard_classes = []\n",
    "all_data_simplified_numerical = []\n",
    "simplified_classes = ['HH','L']\n",
    "standard_classes = ['HH','H','L','L/LL','LL']\n",
    "all_data_meteorite_classes = []\n",
    "\n",
    "\n",
    "for i,sample in enumerate(pure_signal_dict): \n",
    "    \n",
    "    for j,row in enumerate(pure_signal_dict[sample]):\n",
    "        #if sample == 'TolucaBig':\n",
    "        #    continue\n",
    "        all_data.append(row)\n",
    "        \n",
    "        all_data_simplified_classes.append(IRON_SIMPLE_CATEGORIZED[sample])\n",
    "        all_data_standard_classes.append(IRON_ALL_CATEGORIZED[sample])\n",
    "        all_data_simplified_numerical.append(IRON_SIMPLE_NUMERICAL[sample])\n",
    "        all_data_meteorite_classes.append(sample)\n",
    "        \n",
    "\n",
    "print np.shape(all_data)\n",
    "print np.shape(all_data_simplified_classes)\n",
    "#np.save('all_data_simplified_numerical',all_data_simplified_numerical)\n",
    "#np.save('all_data', all_data)"
   ]
  },
  {
   "cell_type": "code",
   "execution_count": 256,
   "metadata": {
    "collapsed": false
   },
   "outputs": [
    {
     "name": "stdout",
     "output_type": "stream",
     "text": [
      "(23, 6)\n"
     ]
    }
   ],
   "source": [
    "all_data_mean = []\n",
    "all_data_mean_classes = []\n",
    "for sample in pure_signal_dict: \n",
    "    all_data_mean.append(np.mean(pure_signal_dict[sample], axis=0))\n",
    "    all_data_mean_classes.append(IRON_SIMPLE_NUMERICAL[sample])\n",
    "    \n",
    "print np.shape(all_data_mean)\n",
    "    \n",
    "    "
   ]
  },
  {
   "cell_type": "code",
   "execution_count": 320,
   "metadata": {
    "collapsed": false
   },
   "outputs": [],
   "source": [
    "import itertools\n",
    "band = [610,680,730,760,810,860]\n",
    "\n",
    "def add_many_variables(spectrum):\n",
    "    pairs = list(itertools.combinations(spectrum, 2))\n",
    "  \n",
    "    \n",
    "    differences = [abs(b-a) for (a,b) in pairs]\n",
    "    differences_squared = [abs(b-a)**2 for (a,b) in pairs]\n",
    " \n",
    "    ratios = [float(b)/float(a) for (a,b) in pairs]\n",
    "    ratios_squared = [(float(b)/float(a))**2 for (a,b) in pairs]\n",
    "    #return spectrum\n",
    "    #return np.concatenate((spectrum,differences))\n",
    "    #return np.concatenate((spectrum,differences))\n",
    "    #return ratios\n",
    "    #based on expected iron changes\n",
    "    #return [spectrum[0],spectrum[1],spectrum[5]]\n",
    "    return spectrum\n",
    "    #return np.concatenate((spectrum,ratios))\n",
    "    #sums \n",
    "    #slopes = [(b-a)/(band[i] for i, (a,b) in enumerate(pairs)]\n",
    "#NOTE: tried a bunch of stuff. Seemed like just using the spectrum itself worked best, though it would be \n",
    "#nice in partiuclar to pay attention to the ratio results since this helps get rid of any noise across all channels"
   ]
  },
  {
   "cell_type": "code",
   "execution_count": 321,
   "metadata": {
    "collapsed": false
   },
   "outputs": [],
   "source": [
    "\n",
    "\n",
    "def build_mega_feature_array(original_dataset): \n",
    "    mega_feature_array = []\n",
    "    #print np.shape(original_dataset)\n",
    "    for sample in original_dataset: \n",
    "        mega_feature_array.append(add_many_variables(sample))\n",
    "    return mega_feature_array\n",
    "    #print np.shape(mega_feature_array)\n",
    "\n",
    "  \n"
   ]
  },
  {
   "cell_type": "code",
   "execution_count": 322,
   "metadata": {
    "collapsed": false
   },
   "outputs": [],
   "source": [
    "whitener = noise.Whiten()\n",
    "whitened_array = (whitener.apply(np.array([mega_feature_array])))[0] \n",
    " "
   ]
  },
  {
   "cell_type": "code",
   "execution_count": 323,
   "metadata": {
    "collapsed": false
   },
   "outputs": [],
   "source": [
    "from sklearn.decomposition import PCA as sklearnPCA\n",
    "\n",
    "\n",
    "def run_PCA(data):\n",
    "    sklearn_pca = sklearnPCA(n_components=2)\n",
    "    mega_features = build_mega_feature_array(data)\n",
    "    #print np.shape(mega_features)\n",
    "    #print np.shape(mega_feature_array)\n",
    "    data_red = sklearn_pca.fit_transform(mega_features)\n",
    "    #print np.shape(data_r)\n",
    "    print sklearn_pca.explained_variance_ratio_\n",
    "    print sklearn_pca.components_\n",
    "    #np.save('data_r',data_r)\n",
    "    #print np.shape(data_r)\n",
    "    return data_red\n",
    "\n",
    " \n",
    " "
   ]
  },
  {
   "cell_type": "code",
   "execution_count": 324,
   "metadata": {
    "collapsed": false
   },
   "outputs": [
    {
     "name": "stdout",
     "output_type": "stream",
     "text": [
      "[ 0.82142097  0.16458215]\n",
      "[[ 0.43738079  0.26829639  0.44158652  0.44716547  0.4171784   0.40953834]\n",
      " [-0.32386784 -0.08095102 -0.37915782 -0.22416339  0.25403264  0.79373428]]\n",
      "[ 0.87662649  0.10912769]\n",
      "[[ 0.46286942  0.28284312  0.43951365  0.44139544  0.40007214  0.39710423]\n",
      " [-0.32990155 -0.06292226 -0.37289958 -0.201542    0.26619101  0.79791906]]\n",
      "(76, 2)\n"
     ]
    },
    {
     "data": {
      "text/plain": [
       "<matplotlib.figure.Figure at 0xa5d1ad0>"
      ]
     },
     "metadata": {},
     "output_type": "display_data"
    },
    {
     "data": {
      "image/png": "[encoded data removed]",
      "text/plain": [
       "<matplotlib.figure.Figure at 0x83ad230>"
      ]
     },
     "metadata": {},
     "output_type": "display_data"
    }
   ],
   "source": [
    "\n",
    "data_r = run_PCA(only_HH_and_3L_data)\n",
    " \n",
    "data_whole = run_PCA(all_data)\n",
    "print np.shape(data_r)\n",
    "make_dim_red_plots(data_r, data_whole, 'PCA Enlarged Feature Set')"
   ]
  },
  {
   "cell_type": "code",
   "execution_count": 313,
   "metadata": {
    "collapsed": false
   },
   "outputs": [],
   "source": [
    "\n",
    "import matplotlib.patches as mpatches\n",
    "def make_dim_red_plots(data_red, data_whole, alg): \n",
    "    plt.clf()\n",
    "    two_class_patches = [mpatches.Patch(color='red', label='HH'),mpatches.Patch(color='blue', label='L or LL')]\n",
    "    three_class_patches = [mpatches.Patch(color='red', label='HH'),mpatches.Patch(color='blue', label='L'), \n",
    "                 mpatches.Patch(color='green', label='LL')]\n",
    "    four_class_patches = [mpatches.Patch(color='red', label='HH'),mpatches.Patch(color='blue', label='L'), \n",
    "                 mpatches.Patch(color='green', label='LL'), mpatches.Patch(color='orange', label='H')]\n",
    "\n",
    "    MYCOLORS = {1: 'red', 'HH':'red', 0:'blue', 'L': 'blue', 2:'green', 'LL':'green', 3:'orange', 'H':'orange', 'L/LL': 'green'}\n",
    "    fig, ((ax1, ax2, ax3, ax4)) = plt.subplots(1, 4, sharex='col', sharey='row',figsize=(30,5))\n",
    "    plt.suptitle(alg + ' 6D->2D Output with Iron Class Labelings',fontsize=22)\n",
    "\n",
    " \n",
    "    for i, row in enumerate(data_red):\n",
    "        ax4.scatter(row[0],row[1], color=MYCOLORS[only_HH_and_3L_classes[i]])\n",
    "        ax3.scatter(row[0],row[1], color=MYCOLORS[only_HH_and_3L_separated_classes[i]])\n",
    "\n",
    "    for i, row in enumerate(data_whole): \n",
    "        ax2.scatter(row[0],row[1], color=MYCOLORS[all_data_standard_classes[i]])\n",
    "        ax1.scatter(row[0],row[1], color=COLORS[all_data_meteorite_classes[i]])\n",
    "\n",
    "    ax1.set_title(alg + ' Colored Per Meteorite Specimen')\n",
    "    ax2.set_title(alg + ' Colored Per Iron Content')\n",
    "    ax3.set_title(alg + ' Colored With H Category Removed')\n",
    "    ax4.set_title(alg + ' Colored With L + LL Combined')\n",
    "    ax4.legend(handles=two_class_patches)\n",
    "    ax3.legend(handles=three_class_patches)\n",
    "    ax2.legend(handles=four_class_patches)\n",
    "\n",
    "\n",
    "    ax4.set_xlabel('Eigenvalue 1')\n",
    "    ax3.set_xlabel('Eigenvalue 1')\n",
    "    ax2.set_xlabel('Eigenvalue 1')\n",
    "    ax1.set_xlabel('Eigenvalue 1')\n",
    "    ax1.set_ylabel('Eigenvalue 2')\n",
    "\n",
    "    plt.show()\n",
    "    #plt.savefig('../results/PCA_Demonstration')"
   ]
  },
  {
   "cell_type": "code",
   "execution_count": 301,
   "metadata": {
    "collapsed": false
   },
   "outputs": [
    {
     "name": "stdout",
     "output_type": "stream",
     "text": [
      "(1, 76, 6)\n"
     ]
    }
   ],
   "source": [
    "#Next: MNF\n",
    "#Then: MDA\n",
    "\n",
    "MNF = noise.MNF()\n",
    "MNF2 = noise.MNF()\n",
    "#data = np.reshape(all_data,(10,21,6))\n",
    "#print (mega_feature_array[0])\n",
    "mega_features = build_mega_feature_array(only_HH_and_3L_data)\n",
    "mega_features_2 = build_mega_feature_array(all_data)\n",
    "result = MNF.apply(np.array([mega_features]))\n",
    "result2 = MNF2.apply(np.array([mega_features_2]))\n",
    "#print(result[0])\n",
    "\n",
    "components = MNF.get_components(2) \n",
    "components2 = MNF2.get_components(2)\n",
    "#print np.shape(components)\n",
    "#components = np.reshape(components,(210,2))\n",
    "#print np.shape(components)\n",
    "print np.shape(result)\n",
    "make_dim_red_plots(components[0],components2[0], 'MNF')\n",
    "\n",
    "#for i, crow in enumerate(components[0]): \n",
    "#    sample = all_data_meteorite_classes[i]\n",
    "#    iron_level = IRON_ALL_CATEGORIZED[sample]\n",
    "#    if iron_level == 'HH':\n",
    "#        color = 'red'\n",
    "#    elif iron_level == 'L' or iron_level == 'LL' or iron_level == 'L/LL': \n",
    "#        color = 'blue'\n",
    "#    else:\n",
    "#        continue\n",
    "    \n",
    "#    plt.scatter(crow[0],crow[1], color=color)\n",
    "plt.show()\n",
    "#plt.savefig('../results/MNF_Demonstration')\n",
    "#MNF.display_components(n_first=1)"
   ]
  },
  {
   "cell_type": "code",
   "execution_count": 423,
   "metadata": {
    "collapsed": false
   },
   "outputs": [],
   "source": [
    "def plot_decision_boundary(X,y,reduced_data,clssf,labels,ax,name,score):\n",
    "    two_class_patches = [mpatches.Patch(color='red', label='HH'),mpatches.Patch(color='blue', label='L or LL')]\n",
    "    n_classes = 2\n",
    "    plot_step = 0.005\n",
    "    colors = {1:'red', 0:'blue'}\n",
    "    x_min, x_max = X[:, 0].min() - 0.1, X[:, 0].max() + 0.1\n",
    "    y_min, y_max = X[:, 1].min() - 0.1 , X[:, 1].max() + 0.1\n",
    "    xx, yy = np.meshgrid(np.arange(x_min, x_max, plot_step),np.arange(y_min, y_max, plot_step))\n",
    "\n",
    "    #Z = lda_clf.predict(np.c_[xx.ravel(), yy.ravel()])\n",
    "    Z = clssf.predict(np.c_[xx.ravel(), yy.ravel()])\n",
    "\n",
    "    Z = Z.reshape(xx.shape)\n",
    "    cs = ax.contourf(xx, yy, Z, cmap=plt.get_cmap('Pastel1'))\n",
    "  \n",
    "    for i, row in enumerate(X): \n",
    "        ax.scatter(row[0],row[1],color=colors[labels[i]])\n",
    "        \n",
    "    ax.set_title(name + ' Classifier for HH vs. (L or LL) [Training set accuracy: ' + str(round(score,2)) + ']')\n",
    "    ax.legend(handles=two_class_patches)\n",
    "    ax.set_xlabel('Feature 1')\n",
    "    ax.set_ylabel('Feature 2')\n",
    "    #plt.savefig('../results/mnf+svc_bad')\n"
   ]
  },
  {
   "cell_type": "code",
   "execution_count": 424,
   "metadata": {
    "collapsed": false
   },
   "outputs": [],
   "source": [
    "qda = QuadraticDiscriminantAnalysis(store_covariances=True)\n",
    "lda = LinearDiscriminantAnalysis()\n",
    "#svc = SVC(C=1, kernel='linear', probability=True, gamma=0.01, degree=2, max_iter=-1, tol=0.001)\n",
    "svc = SVC()\n",
    "# Parameters\n",
    "def train_classifiers(X,y,weights): \n",
    "\n",
    "    #svc = SVC()\n",
    " \n",
    "    \n",
    "    lda_clf = 0\n",
    "    lda_clf = lda.fit(X,y)\n",
    "    qda_clf = qda.fit(X,y)\n",
    "    svc_clf = svc.fit(X,y,sample_weight=weights)\n",
    "\n",
    "    print svc.score(X,y)\n",
    "    print lda.score(X,y)\n",
    "    print qda.score(X,y)\n",
    "    return [lda_clf, qda_clf, svc_clf]\n",
    "    \n",
    "#print qda_result\n"
   ]
  },
  {
   "cell_type": "code",
   "execution_count": 426,
   "metadata": {
    "collapsed": false
   },
   "outputs": [
    {
     "name": "stdout",
     "output_type": "stream",
     "text": [
      "[ 0.82142097  0.16458215]\n",
      "[[ 0.43738079  0.26829639  0.44158652  0.44716547  0.4171784   0.40953834]\n",
      " [-0.32386784 -0.08095102 -0.37915782 -0.22416339  0.25403264  0.79373428]]\n",
      "0.907894736842\n",
      "0.868421052632\n",
      "0.815789473684\n"
     ]
    }
   ],
   "source": [
    "#X = data_r\n",
    "#y = only_HH_and_3L_classes\n",
    "#weights = only_HH_and_3L_weightings\n",
    "\n",
    "#data_whole = run_PCA(all_data)\n",
    "#data_whole_y = all_data_simplified_classes\n",
    "#data_whole_weights = all_data_weightings\n",
    "\n",
    "data_red = run_PCA(only_HH_and_3L_data)\n",
    "data_red_y = only_HH_and_3L_classes\n",
    "data_red_weights = only_HH_and_3L_weightings\n",
    " \n",
    "#data_whole_weights = [x * 100.0 for x in data_whole_weights]\n",
    "data_red_weights = [x * 100.0 for x in data_red_weights]\n",
    "\n",
    "fig, ((ax1, ax2, ax3)) = plt.subplots(1, 3, sharex='col', sharey='row',figsize=(30,5))\n",
    "lda_clf, qda_clf, svc_clf = train_classifiers(data_red,data_red_y,data_red_weights)\n",
    "plot_decision_boundary(data_red,data_red_y,data_r,svc_clf,y,ax1,'SVC',svc.score(data_red,data_red_y))\n",
    "plot_decision_boundary(data_red,data_red_y,data_r,lda_clf,y,ax2,'LDA',lda.score(data_red,data_red_y))\n",
    "plot_decision_boundary(data_red,data_red_y,data_r,qda_clf,y,ax3,'QDA', qda.score(data_red,data_red_y))\n",
    "predictions = qda.predict(data_red)\n",
    "\n",
    "#for i, row in enumerate(test_data_reduced): \n",
    "#   if reduced_test_data_classes[i] == 1: \n",
    "#        plt.scatter(row[0],row[1], color='red')\n",
    "#    else:\n",
    "#        plt.scatter(row[0],row[1], color='purple')\n",
    "\n",
    "        \n",
    "        \n",
    "#plt.show()\n",
    "plt.savefig('../Results/DecisionBoundaries/training_data_summary')"
   ]
  },
  {
   "cell_type": "code",
   "execution_count": null,
   "metadata": {
    "collapsed": true
   },
   "outputs": [],
   "source": [
    "\n",
    "import matplotlib.patches as mpatches\n",
    "def make_decision_boundary_plots(data_red, data_whole, alg): \n",
    "    plt.clf()\n",
    "    two_class_patches = [mpatches.Patch(color='red', label='HH'),mpatches.Patch(color='blue', label='L or LL')]\n",
    "    three_class_patches = [mpatches.Patch(color='red', label='HH'),mpatches.Patch(color='blue', label='L'), \n",
    "                 mpatches.Patch(color='green', label='LL')]\n",
    "    four_class_patches = [mpatches.Patch(color='red', label='HH'),mpatches.Patch(color='blue', label='L'), \n",
    "                 mpatches.Patch(color='green', label='LL'), mpatches.Patch(color='orange', label='H')]\n",
    "\n",
    "    MYCOLORS = {1: 'red', 'HH':'red', 0:'blue', 'L': 'blue', 2:'green', 'LL':'green', 3:'orange', 'H':'orange', 'L/LL': 'green'}\n",
    "    fig, ((ax1, ax2, ax3, ax4)) = plt.subplots(1, 4, sharex='col', sharey='row',figsize=(30,5))\n",
    "    plt.suptitle(alg + ' 6D->2D Output with Iron Class Labelings',fontsize=22)\n",
    "\n",
    " \n",
    "    for i, row in enumerate(data_red):\n",
    "        ax4.scatter(row[0],row[1], color=MYCOLORS[only_HH_and_3L_classes[i]])\n",
    "        ax3.scatter(row[0],row[1], color=MYCOLORS[only_HH_and_3L_separated_classes[i]])\n",
    "\n",
    "    for i, row in enumerate(data_whole): \n",
    "        ax2.scatter(row[0],row[1], color=MYCOLORS[all_data_standard_classes[i]])\n",
    "        ax1.scatter(row[0],row[1], color=COLORS[all_data_meteorite_classes[i]])\n",
    "\n",
    "    ax1.set_title(alg + ' Colored Per Meteorite Specimen')\n",
    "    ax2.set_title(alg + ' Colored Per Iron Content')\n",
    "    ax3.set_title(alg + ' Colored With H Category Removed')\n",
    "    ax4.set_title(alg + ' Colored With L + LL Combined')\n",
    "    ax4.legend(handles=two_class_patches)\n",
    "    ax3.legend(handles=three_class_patches)\n",
    "    ax2.legend(handles=four_class_patches)\n",
    "\n",
    "\n",
    "    ax4.set_xlabel('Eigenvalue 1')\n",
    "    ax3.set_xlabel('Eigenvalue 1')\n",
    "    ax2.set_xlabel('Eigenvalue 1')\n",
    "    ax1.set_xlabel('Eigenvalue 1')\n",
    "    ax1.set_ylabel('Eigenvalue 2')\n",
    "\n",
    "    plt.show()\n",
    "    #plt.savefig('../results/PCA_Demonstration')"
   ]
  },
  {
   "cell_type": "code",
   "execution_count": null,
   "metadata": {
    "collapsed": true
   },
   "outputs": [],
   "source": [
    "#ToDo: \n",
    "#Plot weighted by number of images per sample\n",
    "#Plot with 3 categories (L/LL+L, LL, HH )\n",
    "\n"
   ]
  },
  {
   "cell_type": "code",
   "execution_count": null,
   "metadata": {
    "collapsed": true
   },
   "outputs": [],
   "source": [
    "#SVC Standard \n",
    "#pred = [0 0 0 1 1 1 1 1 1 1 1 1 1 1 0 0 0 0 0 1 1 1]\n",
    "#actu = [1 1 1 1 1 1 1 1 1 1 1 1 0 0 0 0 1 1 1 1 1 1]\n",
    "#yields 14/22 - 64% accuracy \n",
    "\n",
    "#QDA\n",
    "\n",
    "#pred = [0 0 0 1 1 1 1 1 1 1 1 1 1 1 0 0 0 0 0 1 1 0]\n",
    "#actu = [1 1 1 1 1 1 1 1 1 1 1 1 0 0 0 0 1 1 1 1 1 1]\n",
    "#yields 14/22 - 64% accuracy \n",
    "\n",
    "actual = [1,0,0,1,1 1 1 1 1 1 1 1 1 1 0 0 0 0 0 0 1 1]"
   ]
  },
  {
   "cell_type": "code",
   "execution_count": 87,
   "metadata": {
    "collapsed": false
   },
   "outputs": [
    {
     "name": "stdout",
     "output_type": "stream",
     "text": [
      "[0 0 0 1 1 1 1 1 1 1 1 1 1 1 0 0 0 0 0 1 1 0]\n",
      "[1 1 1 1 1 1 1 1 1 1 1 1 0 0 0 0 1 1 1 1 1 1]\n"
     ]
    }
   ],
   "source": [
    "test_data_reduced = np.load('../ML_TestDataResults/reduced_test_data.npy')\n",
    "reduced_test_data_classes = np.load('../ML_TestDataResults/reduced_test_classes.npy')\n",
    "predictions = qda.predict(test_data_reduced)\n",
    "print predictions\n",
    "print reduced_test_data_classes"
   ]
  }
 ],
 "metadata": {
  "kernelspec": {
   "display_name": "Python [default]",
   "language": "python",
   "name": "python2"
  },
  "language_info": {
   "codemirror_mode": {
    "name": "ipython",
    "version": 2
   },
   "file_extension": ".py",
   "mimetype": "text/x-python",
   "name": "python",
   "nbconvert_exporter": "python",
   "pygments_lexer": "ipython2",
   "version": "2.7.12"
  }
 },
 "nbformat": 4,
 "nbformat_minor": 0
}
