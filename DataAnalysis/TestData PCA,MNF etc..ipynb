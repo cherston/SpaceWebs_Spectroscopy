{
 "cells": [
  {
   "cell_type": "code",
   "execution_count": 45,
   "metadata": {
    "collapsed": true
   },
   "outputs": [],
   "source": [
    "%matplotlib inline\n",
    "import numpy as np\n",
    "import matplotlib.pyplot as plt\n",
    "import pysptools.noise as noise\n",
    "from sklearn.discriminant_analysis import QuadraticDiscriminantAnalysis, LinearDiscriminantAnalysis\n",
    "from sklearn.svm import SVC"
   ]
  },
  {
   "cell_type": "code",
   "execution_count": 46,
   "metadata": {
    "collapsed": true
   },
   "outputs": [],
   "source": [
    "test_pure_signal_dict = np.load('../TestDataAnalysis/ML_TestData_pure_signal_dict.npy').item()"
   ]
  },
  {
   "cell_type": "code",
   "execution_count": 47,
   "metadata": {
    "collapsed": false,
    "scrolled": true
   },
   "outputs": [
    {
     "name": "stdout",
     "output_type": "stream",
     "text": [
      "Loongana\n",
      "Chondrite\n",
      "Gibeon\n",
      "Toluca\n",
      "Allende\n",
      "Abee\n",
      "Bronzite\n",
      "Millbillillie\n"
     ]
    }
   ],
   "source": [
    "for sample in test_pure_signal_dict: \n",
    "    print sample"
   ]
  },
  {
   "cell_type": "code",
   "execution_count": 54,
   "metadata": {
    "collapsed": true
   },
   "outputs": [],
   "source": [
    "IRON_ALL_CATEGORIZED_TEST = {'Loongana': 'L','Chondrite':'LL', 'Gibeon':'HH','Toluca':'HH','Allende':'L','Abee': 'H',\n",
    "                            'Bronzite': 'H','Millbillillie':'L'}\n",
    "COLORS = {'Loongana': 'red','Chondrite':'blue', 'Gibeon':'green','Toluca':'orange','Allende':'black','Abee': 'lime',\n",
    "                            'Bronzite': 'fuchshia','Millbillillie':'cyan'}"
   ]
  },
  {
   "cell_type": "code",
   "execution_count": 53,
   "metadata": {
    "collapsed": false
   },
   "outputs": [
    {
     "name": "stdout",
     "output_type": "stream",
     "text": [
      "Loongana\n",
      "3\n",
      "Chondrite\n",
      "9\n",
      "Gibeon\n",
      "2\n",
      "Toluca\n",
      "2\n",
      "Allende\n",
      "4\n",
      "Abee\n",
      "2\n",
      "Bronzite\n",
      "8\n",
      "Millbillillie\n",
      "2\n"
     ]
    },
    {
     "data": {
      "text/plain": [
       "[array([ 0.84764347,  1.0404252 ,  0.80557932,  0.76576545,  0.97566974,\n",
       "         1.07423238]),\n",
       " array([ 0.8688597 ,  1.00000252,  0.82498281,  0.86473448,  1.00001185,\n",
       "         1.00001563]),\n",
       " array([ 0.90185823,  1.00008105,  0.92518874,  1.00034792,  1.00037945,\n",
       "         0.7852686 ]),\n",
       " array([ 1.01711672,  1.03260039,  1.02334431,  0.98819046,  0.94817034,\n",
       "         0.7047869 ])]"
      ]
     },
     "execution_count": 53,
     "metadata": {},
     "output_type": "execute_result"
    }
   ],
   "source": [
    "only_HH_and_3L_test_data = []\n",
    "only_HH_and_3L_test_classes = [] \n",
    "only_HH_and_3L_test_weightings = []\n",
    "METEORITE_ORIGIN = []\n",
    "high = 0\n",
    "for i,sample in enumerate(test_pure_signal_dict):\n",
    "    print sample\n",
    "    print len(test_pure_signal_dict[sample])\n",
    "    for j,row in enumerate(test_pure_signal_dict[sample]):\n",
    "        if IRON_ALL_CATEGORIZED_TEST[sample] == 'HH':\n",
    "            only_HH_and_3L_test_data.append(row)\n",
    "            only_HH_and_3L_test_classes.append(1)\n",
    "            only_HH_and_3L_test_weightings.append(1.0/len(test_pure_signal_dict[sample])) \n",
    "            METEORITE_ORIGIN.append(sample)\n",
    "        elif IRON_ALL_CATEGORIZED_TEST[sample] == 'L' or IRON_ALL_CATEGORIZED_TEST[sample] == 'LL' or IRON_ALL_CATEGORIZED_TEST[sample] == 'L/LL':\n",
    "            only_HH_and_3L_test_data.append(row)\n",
    "            only_HH_and_3L_test_classes.append(0)\n",
    "            only_HH_and_3L_test_weightings.append(1.0/len(test_pure_signal_dict[sample])) \n",
    "            METEORITE_ORIGIN.append(sample)\n",
    "        else:\n",
    "            high += 1\n",
    "            \n",
    "test_pure_signal_dict['Allende']"
   ]
  },
  {
   "cell_type": "code",
   "execution_count": 50,
   "metadata": {
    "collapsed": false
   },
   "outputs": [
    {
     "name": "stdout",
     "output_type": "stream",
     "text": [
      "(22, 6)\n",
      "(22, 2)\n",
      "[ 0.70527089  0.19636846]\n",
      "[[ 0.21169133  0.19973953  0.20919898  0.49145641  0.35185084  0.71147612]\n",
      " [ 0.56883433 -0.07914354  0.15902566  0.05658015  0.60069705 -0.52993999]]\n",
      "(22, 2)\n"
     ]
    }
   ],
   "source": [
    "from sklearn.decomposition import PCA as sklearnPCA\n",
    "sklearn_pca = sklearnPCA(n_components=2)\n",
    "print np.shape(only_HH_and_3L_test_data)\n",
    "data_r = sklearn_pca.fit_transform(only_HH_and_3L_test_data)\n",
    "print np.shape(data_r)\n",
    "print sklearn_pca.explained_variance_ratio_\n",
    "print sklearn_pca.components_\n",
    "\n",
    "np.save('data_r',data_r)\n",
    "print np.shape(data_r)"
   ]
  },
  {
   "cell_type": "code",
   "execution_count": 61,
   "metadata": {
    "collapsed": false
   },
   "outputs": [
    {
     "data": {
      "image/png": "[encoded data removed]",
      "text/plain": [
       "<matplotlib.figure.Figure at 0x10da7dd50>"
      ]
     },
     "metadata": {},
     "output_type": "display_data"
    }
   ],
   "source": [
    "for i, row in enumerate(data_r): \n",
    "    plt.scatter(row[0],row[1], color=COLORS[METEORITE_ORIGIN[i]])\n",
    "#plt.show()\n",
    "plt.savefig('../ML_TestDataResults/5Cat')"
   ]
  },
  {
   "cell_type": "code",
   "execution_count": 68,
   "metadata": {
    "collapsed": false,
    "scrolled": true
   },
   "outputs": [
    {
     "name": "stdout",
     "output_type": "stream",
     "text": [
      "[0, 0, 0, 0, 0, 0, 0, 0, 0, 0, 0, 0, 1, 1, 1, 1, 0, 0, 0, 0, 0, 0]\n"
     ]
    },
    {
     "data": {
      "image/png": "[encoded data removed]",
      "text/plain": [
       "<matplotlib.figure.Figure at 0x10d989f90>"
      ]
     },
     "metadata": {},
     "output_type": "display_data"
    }
   ],
   "source": [
    "\n",
    "for i, row in enumerate(data_r): \n",
    "    if only_HH_and_3L_test_classes[i] == 1: \n",
    "        plt.scatter(row[0],row[1], color='red')\n",
    "    else:\n",
    "        plt.scatter(row[0],row[1], color='purple')\n",
    "plt.xlim(-1,1.5)\n",
    "#plt.show()\n",
    "#plt.savefig('../ML_TestDataResults/2Cat')\n",
    "np.save('../ML_testDataResults/reduced_test_data',data_r)\n",
    "np.save('../ML_testDataResults/reduced_test_classes',only_HH_and_3L_test_classes)\n",
    "for i,val in enumerate(only_HH_and_3L_test_classes):\n",
    "    if val == 1:\n",
    "        only_HH_and_3L_test_classes[i] = 0\n",
    "    else: \n",
    "        only_HH_and_3L_test_classes[i] = 1\n",
    "print only_HH_and_3L_test_classes"
   ]
  },
  {
   "cell_type": "code",
   "execution_count": null,
   "metadata": {
    "collapsed": true
   },
   "outputs": [],
   "source": []
  }
 ],
 "metadata": {
  "kernelspec": {
   "display_name": "Python 2",
   "language": "python",
   "name": "python2"
  },
  "language_info": {
   "codemirror_mode": {
    "name": "ipython",
    "version": 2
   },
   "file_extension": ".py",
   "mimetype": "text/x-python",
   "name": "python",
   "nbconvert_exporter": "python",
   "pygments_lexer": "ipython2",
   "version": "2.7.9"
  }
 },
 "nbformat": 4,
 "nbformat_minor": 0
}
