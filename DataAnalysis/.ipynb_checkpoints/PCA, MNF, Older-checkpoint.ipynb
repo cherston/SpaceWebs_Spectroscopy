{
 "cells": [
  {
   "cell_type": "code",
   "execution_count": 1,
   "metadata": {
    "collapsed": false
   },
   "outputs": [],
   "source": [
    "import numpy as np\n",
    "import matplotlib.pyplot as plt\n",
    "import pysptools.noise as noise"
   ]
  },
  {
   "cell_type": "code",
   "execution_count": 2,
   "metadata": {
    "collapsed": false
   },
   "outputs": [],
   "source": [
    "\n",
    "#from taking n purest pixels \n",
    "purest_pixels_dict = np.load('./purest_pixels_dict.npy').item()\n",
    "\n",
    "#from subtracting out signal from background\n",
    "pure_signal_dict = np.load('./pure_signal_dict.npy').item()"
   ]
  },
  {
   "cell_type": "code",
   "execution_count": 3,
   "metadata": {
    "collapsed": false
   },
   "outputs": [],
   "source": [
    "#http://evols.library.manoa.hawaii.edu/bitstream/handle/10524/35872/vol3-Poop-Que(LO).pdf#page=11\n",
    "#Olivenza: Took average for LL chondrite \n",
    "#'H' has about 25-30% total Iron (with over half in metallic form =>strongly magnetic)\n",
    "#L contains 20-25% (with 5-10% in uncombined metal state)\n",
    "#'LL' contain 19-22% iron (with only 0.3-3% metallic iron)\n",
    "CLASSIFICATION_PER_SPECIMEN =  {'Abee':'EH4', 'Acapulco':'Acapulcoite', 'Allende':'CV3','Brownsfield':'H3.7',\n",
    "                                'Estacado':'H6', 'Estacado2':'H6', 'Gibeon':'IronIva', 'Hessle':'H5', \n",
    "                                'Holbrook':\"L/LL6\", 'Homestead':'L5','Homestead2':'L5','Millbilille':'Eucrite-mmict',\n",
    "                                'Olivenza':\"LL5\", 'Peekshill':'H6',\n",
    "                                'PutnamCounty':'IronIva', 'Soku':'LL4', 'Steinbach1':'IronIva', 'Steinbach2':'IronIva', \n",
    "                                'Sutton':'H5','Toluca1':'IronIAB-sLL', 'Toluca2':'IronIAB-sLL', 'Toluca3':'IronIAB-sLL', \n",
    "                                'TolucaBig':'IronIAB-sLL'}\n",
    "\n",
    "IRON_CATEGORY_PER_SPECIMEN = {'Abee':32.52, 'Acapulco':27.5, 'Allende':23.85,'Brownsfield':'H','Estacado':27.88, \n",
    "                                'Estacado2':27.88, 'Gibeon':91.8, 'Hessle':'H', 'Holbrook':\"L/LL\", 'Homestead':'L',\n",
    "                                'Homestead2':'L','Millbilille':'L','Olivenza':\"LL\", 'Peekshill':'H',\n",
    "                                'PutnamCounty':91.57, 'Soku':'LL', 'Steinbach1':'HH', 'Steinbach2':'HH', 'Sutton':'H', \n",
    "                                'Toluca1':91, 'Toluca2':91, 'Toluca3':91, 'TolucaBig':91}\n",
    "\n",
    "IRON_ALL_CATEGORIZED = {'Abee':'H', 'Acapulco':'H', 'Allende':'L','Brownsfield':'H','Estacado':'H', \n",
    "                                'Estacado2':'H', 'Gibeon':'HH', 'Hessle':'H', 'Holbrook':\"L/LL\", 'Homestead':'L',\n",
    "                                'Homestead2':'L','Millbilille':'L','Olivenza':\"LL\", 'Peekshill':'H',\n",
    "                                'PutnamCounty':'H', 'Soku':'LL', 'Steinbach1':'HH', 'Steinbach2':'HH', 'Sutton':'H', \n",
    "                                'Toluca1':'HH', 'Toluca2':'HH', 'Toluca3':'HH', 'TolucaBig':'HH'}\n",
    "\n",
    "IRON_SIMPLE_CATEGORIZED = {'Abee':'L', 'Acapulco':'L', 'Allende':'L','Brownsfield':'L','Estacado':'L', \n",
    "                                'Estacado2':'L', 'Gibeon':'HH', 'Hessle':'L', 'Holbrook':\"L\", 'Homestead':'L',\n",
    "                                'Homestead2':'L','Millbilille':'L','Olivenza':\"L\", 'Peekshill':'L',\n",
    "                                'PutnamCounty':'L', 'Soku':'L', 'Steinbach1':'HH', 'Steinbach2':'HH', 'Sutton':'', \n",
    "                                'Toluca1':'HH', 'Toluca2':'HH', 'Toluca3':'HH', 'TolucaBig':'HH'}\n",
    "\n",
    "IRON_PERCENTAGE_IF_AVAILABLE = {'Abee':32.52, 'Acapulco':27.5, 'Allende':23.85,'Estacado':27.88, \n",
    "                                'Estacado2':27.88, 'Gibeon':91.8, 'PutnamCounty':91.57,'Toluca1':91, \n",
    "                                'Toluca2':91, 'Toluca3':91, 'TolucaBig':91}\n",
    "COLORS = {'Abee':'darkslateblue', 'Acapulco':'green', 'Allende':'blue','Brownsfield':'yellow',\n",
    "                                'Estacado':'purple', 'Estacado2':'brown', 'Gibeon':'black', 'Hessle':'lime', \n",
    "                                'Holbrook':\"orange\", 'Homestead':'grey','Homestead2':'lightgreen',\n",
    "                                  'Millbilille':'lightcoral',\n",
    "                                'Olivenza':\"c\", 'Peekshill':'cyan',\n",
    "                                'PutnamCounty':'pink', 'Soku':'silver', 'Steinbach1':'maroon', 'Steinbach2':'fuchsia', \n",
    "                                'Sutton':'lawngreen','Toluca1':'cyan', 'Toluca2':'ivory', 'Toluca3':'olive', \n",
    "                                'TolucaBig':'red'}\n"
   ]
  },
  {
   "cell_type": "code",
   "execution_count": 5,
   "metadata": {
    "collapsed": false
   },
   "outputs": [
    {
     "name": "stdout",
     "output_type": "stream",
     "text": [
      "(210, 6)\n",
      "(210,)\n"
     ]
    }
   ],
   "source": [
    "#create matrix of all data samples (no classes)\n",
    "all_data = []\n",
    "all_data_simplified_classes = []\n",
    "all_data_standard_classes = []\n",
    "simplified_classes = ['HH','L']\n",
    "standard_classes = ['HH','H','L','L/LL','LL']\n",
    "all_data_meteorite_classes = []\n",
    "\n",
    "for i,sample in enumerate(pure_signal_dict): \n",
    "    if sample == 'TolucaBig':\n",
    "        continue\n",
    "    for j,row in enumerate(pure_signal_dict[sample]): \n",
    "        all_data.append(row)\n",
    "        all_data_simplified_classes.append(IRON_SIMPLE_CATEGORIZED[sample])\n",
    "        all_data_standard_classes.append(IRON_ALL_CATEGORIZED[sample])\n",
    "        all_data_meteorite_classes.append(sample)\n",
    "        \n",
    "\n",
    "print np.shape(all_data)\n",
    "print np.shape(all_data_simplified_classes)"
   ]
  },
  {
   "cell_type": "code",
   "execution_count": 6,
   "metadata": {
    "collapsed": false
   },
   "outputs": [
    {
     "name": "stdout",
     "output_type": "stream",
     "text": [
      "(23, 6)\n"
     ]
    }
   ],
   "source": [
    "all_data_mean = []\n",
    "all_data_mean_classes = []\n",
    "for sample in pure_signal_dict: \n",
    "    all_data_mean.append(np.mean(pure_signal_dict[sample], axis=0))\n",
    "    all_data_mean_classes.append(sample)\n",
    "    \n",
    "print np.shape(all_data_mean)\n",
    "    \n",
    "    "
   ]
  },
  {
   "cell_type": "code",
   "execution_count": 7,
   "metadata": {
    "collapsed": false
   },
   "outputs": [],
   "source": [
    "import itertools\n",
    "band = [610,680,730,760,810,860]\n",
    "\n",
    "def add_many_variables(spectrum):\n",
    "    pairs = list(itertools.combinations(spectrum, 2))\n",
    "  \n",
    "    \n",
    "    differences = [abs(b-a) for (a,b) in pairs]\n",
    "    differences_squared = [abs(b-a)**2 for (a,b) in pairs]\n",
    " \n",
    "    ratios = [float(b)/float(a) for (a,b) in pairs]\n",
    "    ratios_squared = [(float(b)/float(a))**2 for (a,b) in pairs]\n",
    "    #return spectrum\n",
    "    #return np.concatenate((spectrum,differences))\n",
    "    #return np.concatenate((spectrum,differences))\n",
    "    #return ratios\n",
    "    #based on expected iron changes\n",
    "    #return [spectrum[0],spectrum[1],spectrum[5]]\n",
    "    return np.concatenate((spectrum,differences,ratios))\n",
    "    #sums \n",
    "    #slopes = [(b-a)/(band[i] for i, (a,b) in enumerate(pairs)]\n",
    "#NOTE: tried a bunch of stuff. Seemed like just using the spectrum itself worked best, though it would be \n",
    "#nice in partiuclar to pay attention to the ratio results since this helps get rid of any noise across all channels"
   ]
  },
  {
   "cell_type": "code",
   "execution_count": 8,
   "metadata": {
    "collapsed": false
   },
   "outputs": [
    {
     "name": "stdout",
     "output_type": "stream",
     "text": [
      "(210, 6)\n",
      "(210, 36)\n"
     ]
    }
   ],
   "source": [
    "mega_feature_array = []\n",
    "\n",
    "def build_mega_feature_array(original_dataset): \n",
    "    for sample in original_dataset: \n",
    "        mega_feature_array.append(add_many_variables(sample))\n",
    "\n",
    "build_mega_feature_array(all_data)\n",
    "  \n",
    "print np.shape(all_data)\n",
    "print np.shape(mega_feature_array)\n"
   ]
  },
  {
   "cell_type": "code",
   "execution_count": 9,
   "metadata": {
    "collapsed": false
   },
   "outputs": [
    {
     "name": "stdout",
     "output_type": "stream",
     "text": [
      "(210, 36)\n",
      "(210, 2)\n",
      "[ 0.70477734  0.16011543]\n",
      "[[-0.2825636  -0.16694153 -0.26128759 -0.26361607 -0.25820146 -0.2715704\n",
      "   0.08316441 -0.03216278 -0.02873968 -0.03085958 -0.02125287  0.08235836\n",
      "   0.09373624  0.08355293  0.09880148 -0.00092847 -0.01661171 -0.00885368\n",
      "  -0.01674159 -0.02227843  0.00322328  0.49793035 -0.00728724 -0.07665931\n",
      "  -0.04758264 -0.14298851 -0.22207525 -0.24275334 -0.23173032 -0.27000519\n",
      "  -0.07770653 -0.04694213 -0.15401308  0.04244999 -0.09926519 -0.12421777]\n",
      " [-0.17738475 -0.08791792 -0.21119332 -0.17878777 -0.0851785   0.01040101\n",
      "   0.02942258  0.00117845 -0.00778032 -0.07252975 -0.11912745  0.09506114\n",
      "   0.08600737 -0.00973696 -0.09000301 -0.01923371 -0.04221744 -0.08247341\n",
      "   0.03384668  0.00910202 -0.02683339  0.0090798  -0.08267549 -0.01123034\n",
      "   0.15301749  0.36163176 -0.15586922 -0.11070578  0.02622985  0.17024926\n",
      "   0.06660319  0.25028132  0.47247539  0.19400612  0.45329252  0.24511387]]\n"
     ]
    }
   ],
   "source": [
    "from sklearn.decomposition import PCA as sklearnPCA\n",
    "sklearn_pca = sklearnPCA(n_components=2)\n",
    "print np.shape(mega_feature_array)\n",
    "data_r = sklearn_pca.fit_transform(mega_feature_array)\n",
    "print np.shape(data_r)\n",
    "print sklearn_pca.explained_variance_ratio_\n",
    "print sklearn_pca.components_\n",
    "\n",
    " \n",
    " "
   ]
  },
  {
   "cell_type": "code",
   "execution_count": 10,
   "metadata": {
    "collapsed": false
   },
   "outputs": [],
   "source": [
    "colors = {}\n",
    "for i, row in enumerate(data_r): \n",
    "    if all_data_standard_classes[i] == 'HH': \n",
    "        plt.scatter(row[0],row[1], color='red')\n",
    "    elif all_data_standard_classes[i] == 'H':\n",
    "        plt.scatter(row[0],row[1], color='green')\n",
    "    elif all_data_standard_classes[i] == 'L':\n",
    "        plt.scatter(row[0],row[1], color='blue')\n",
    "    elif all_data_standard_classes[i] == 'L/LL':\n",
    "        plt.scatter(row[0],row[1], color='yellow')\n",
    "    elif all_data_standard_classes[i] == 'LL':\n",
    "        plt.scatter(row[0],row[1], color='purple')\n",
    "#plt.xlim(-2,0)\n",
    "plt.show()\n",
    "#plt.savefig('../results/PCA_5_cat')\n",
    " \n",
    "     "
   ]
  },
  {
   "cell_type": "code",
   "execution_count": 11,
   "metadata": {
    "collapsed": true
   },
   "outputs": [],
   "source": [
    "colors = {}\n",
    "for i, row in enumerate(data_r): \n",
    "    if all_data_standard_classes[i] == 'HH': \n",
    "        plt.scatter(row[0],row[1], color='red')\n",
    "    elif all_data_standard_classes[i] == 'H':\n",
    "        continue\n",
    "    elif all_data_standard_classes[i] == 'L':\n",
    "        plt.scatter(row[0],row[1], color='blue')\n",
    "    elif all_data_standard_classes[i] == 'L/LL':\n",
    "        plt.scatter(row[0],row[1], color='yellow')\n",
    "    elif all_data_standard_classes[i] == 'LL':\n",
    "        plt.scatter(row[0],row[1], color='purple')\n",
    "#plt.xlim(-2,1)\n",
    "plt.show()\n",
    "#plt.savefig('../results/PCA_4_cat')"
   ]
  },
  {
   "cell_type": "code",
   "execution_count": null,
   "metadata": {
    "collapsed": false
   },
   "outputs": [],
   "source": [
    "colors = {}\n",
    "for i, row in enumerate(data_r): \n",
    "    if all_data_standard_classes[i] == 'H':\n",
    "        continue\n",
    "    elif all_data_standard_classes[i] == 'L':\n",
    "        plt.scatter(row[0],row[1], color='blue')\n",
    "    elif all_data_standard_classes[i] == 'L/LL':\n",
    "        plt.scatter(row[0],row[1], color='blue')\n",
    "    elif all_data_standard_classes[i] == 'LL':\n",
    "        plt.scatter(row[0],row[1], color='blue')\n",
    "    elif all_data_standard_classes[i] == 'HH': \n",
    "        plt.scatter(row[0],row[1], color='red')\n",
    "#plt.xlim(-3,0)\n",
    "plt.show()\n",
    "#plt.savefig('../results/PCA_HHv3Ls')\n",
    " "
   ]
  },
  {
   "cell_type": "code",
   "execution_count": 40,
   "metadata": {
    "collapsed": false
   },
   "outputs": [],
   "source": [
    "for i, row in enumerate(data_r): \n",
    "    plt.scatter(row[0],row[1], color=COLORS[all_data_meteorite_classes[i]])\n",
    "plt.show()\n",
    "#plt.savefig('../results/PCA_meteorite')"
   ]
  },
  {
   "cell_type": "code",
   "execution_count": 36,
   "metadata": {
    "collapsed": false
   },
   "outputs": [
    {
     "name": "stdout",
     "output_type": "stream",
     "text": [
      "[ 0.62782775  0.72484072  0.55037799  0.58893332  0.60340918  0.5545497\n",
      "  0.09701297  0.07744976  0.03889443  0.02441856  0.07327805  0.17446272\n",
      "  0.1359074   0.12143153  0.17029102  0.03855533  0.05303119  0.00417171\n",
      "  0.01447587  0.03438362  0.04885949  1.15452163  0.87663853  0.9380492\n",
      "  0.96110627  0.88328319  0.75930888  0.81250033  0.83247143  0.76506422\n",
      "  1.07005245  1.09635413  1.00757971  1.02457981  0.94161712  0.9190276 ]\n",
      "[[  2.88205714e+02  -4.94060282e+01   5.20976768e+01 ...,  -6.50724605e-03\n",
      "   -2.26720800e-02  -1.63165500e-02]\n",
      " [  2.80503822e+02  -1.78668059e+02   1.66664221e+01 ...,  -1.69490128e-02\n",
      "   -1.87429195e-02  -1.52587512e-02]\n",
      " [  2.91118664e+02  -2.60388204e+02  -1.20729824e+01 ...,  -2.09813820e-02\n",
      "    8.82380439e-03   1.44782537e-02]\n",
      " ..., \n",
      " [  2.39653428e+02  -1.65445924e+02   1.29260450e+02 ...,  -2.29214794e-02\n",
      "   -7.98279378e-03   1.80802623e-02]\n",
      " [  2.27841783e+02  -5.52339667e+01  -1.25731133e+02 ...,  -8.95776674e-03\n",
      "   -3.34333693e-03   8.43251761e-04]\n",
      " [  2.20986494e+02  -2.72697290e+02  -1.44828008e+02 ...,   3.74074989e-02\n",
      "   -4.75701012e-03   8.64385160e-03]]\n"
     ]
    },
    {
     "data": {
      "text/plain": [
       "array([[  2.88205714e+02,  -4.94060282e+01],\n",
       "       [  2.80503822e+02,  -1.78668059e+02],\n",
       "       [  2.91118664e+02,  -2.60388204e+02],\n",
       "       [ -7.83956514e+02,  -1.48850386e+02],\n",
       "       [ -7.75364676e+02,  -1.83860086e+02],\n",
       "       [ -7.72743952e+02,  -1.82555369e+02],\n",
       "       [ -8.02633227e+02,  -1.74305096e+02],\n",
       "       [ -8.05849281e+02,  -1.76712222e+02],\n",
       "       [ -4.27424965e+02,  -1.56019076e+02],\n",
       "       [ -4.31385794e+02,  -7.16495944e+01],\n",
       "       [ -4.20558410e+02,  -5.57022629e+01],\n",
       "       [ -3.29433369e+02,   2.39621087e+02],\n",
       "       [ -3.04234510e+02,   2.30730870e+02],\n",
       "       [ -3.13294112e+02,   2.09732707e+02],\n",
       "       [ -3.24042146e+02,   1.49894457e+02],\n",
       "       [ -3.21556603e+02,   1.02984813e+02],\n",
       "       [ -3.25720260e+02,   1.03774164e+02],\n",
       "       [ -3.05042751e+02,  -3.44523081e+01],\n",
       "       [ -3.08178492e+02,   7.65020572e+01],\n",
       "       [ -3.55317164e+02,   1.10561189e+02],\n",
       "       [ -3.28419547e+02,   1.17428837e+02],\n",
       "       [ -8.79459056e+02,  -2.02636234e+02],\n",
       "       [ -8.76242686e+02,  -2.08250725e+02],\n",
       "       [ -9.03881966e+02,  -1.98147576e+02],\n",
       "       [ -8.79756162e+02,  -1.81180515e+02],\n",
       "       [ -9.16189990e+02,  -2.21339291e+02],\n",
       "       [ -8.03049914e+02,  -2.34200567e+02],\n",
       "       [ -7.13292334e+02,   9.35697174e+01],\n",
       "       [ -6.88959822e+02,  -2.75273423e+01],\n",
       "       [ -1.22197329e+02,   5.44192009e+01],\n",
       "       [ -7.46755405e+01,   1.43676737e+02],\n",
       "       [ -1.02265161e+02,   2.44534774e+01],\n",
       "       [ -4.49055180e+01,   2.94152884e+02],\n",
       "       [ -1.07891939e+02,   6.22376784e+01],\n",
       "       [  5.27125538e+02,   6.22511102e+02],\n",
       "       [ -6.55163115e+02,  -1.17049244e+02],\n",
       "       [ -6.58779390e+02,  -6.23156447e+01],\n",
       "       [ -6.41822340e+02,  -5.37457578e+01],\n",
       "       [ -6.70580069e+02,  -7.53972794e+01],\n",
       "       [ -6.77090222e+02,  -9.13193455e+01],\n",
       "       [ -6.92662619e+02,  -1.31180873e+01],\n",
       "       [ -6.92803563e+02,   2.52485135e+01],\n",
       "       [ -7.03601349e+02,  -2.20219676e+01],\n",
       "       [  8.53876480e+01,   1.35935256e+02],\n",
       "       [  9.80183059e+01,   1.06526216e+02],\n",
       "       [  1.17118602e+02,   1.47848539e+02],\n",
       "       [  1.35973165e+02,   1.99394180e+02],\n",
       "       [  9.61211234e+01,   1.25548854e+02],\n",
       "       [  1.31474373e+02,   2.91804281e+02],\n",
       "       [  1.31980919e+02,   3.15296254e+02],\n",
       "       [  1.13389997e+02,  -6.85183688e+01],\n",
       "       [  9.75786105e+01,  -4.37213901e+01],\n",
       "       [  3.08735964e+02,  -3.59148108e+02],\n",
       "       [  1.09925664e+02,   4.89889441e+01],\n",
       "       [  1.25020642e+02,   1.64796996e+02],\n",
       "       [  1.34482205e+02,   2.18766753e+02],\n",
       "       [  9.98404220e+01,   1.08266422e+02],\n",
       "       [  1.15620489e+02,   2.19215906e+02],\n",
       "       [  1.05374453e+02,   1.56050545e+02],\n",
       "       [  1.19283061e+02,   2.23033853e+02],\n",
       "       [  1.27265553e+02,   2.73275228e+02],\n",
       "       [  1.21774533e+02,   2.39513409e+02],\n",
       "       [  1.24341466e+02,   2.68543350e+02],\n",
       "       [  2.73208227e+02,   3.99747642e+02],\n",
       "       [  9.81805953e+01,   5.73711630e+01],\n",
       "       [  9.12616465e+01,   1.05036544e+02],\n",
       "       [  8.82565720e+01,   9.12534782e+01],\n",
       "       [  9.51468522e+01,   1.29413823e+02],\n",
       "       [  1.09072896e+02,   1.56356468e+02],\n",
       "       [  9.64909527e+01,   1.24601978e+02],\n",
       "       [  1.09966248e+02,   1.24678844e+02],\n",
       "       [  9.34852126e+01,   1.13945768e+02],\n",
       "       [  1.03518526e+02,   1.58193013e+02],\n",
       "       [  1.19581159e+02,   1.98650693e+02],\n",
       "       [  1.10613771e+02,   2.00805644e+02],\n",
       "       [ -7.27470562e+02,  -1.63530808e+02],\n",
       "       [ -7.06441453e+02,  -7.66669977e+01],\n",
       "       [ -7.40372780e+02,  -1.50762309e+02],\n",
       "       [ -6.91715458e+02,  -1.82915200e+02],\n",
       "       [  1.55766864e+02,  -2.08442019e+02],\n",
       "       [  1.52002238e+02,  -2.06148783e+02],\n",
       "       [  1.71514911e+02,  -2.15412047e+02],\n",
       "       [  1.51515082e+02,  -2.34614562e+02],\n",
       "       [  1.60924405e+02,  -2.49976220e+02],\n",
       "       [  1.30817261e+02,  -2.25750451e+02],\n",
       "       [  1.55312137e+02,  -2.00275640e+02],\n",
       "       [  2.36701207e+02,   1.53323420e+02],\n",
       "       [  2.50726938e+02,   1.66047145e+02],\n",
       "       [  2.61970672e+02,  -2.95163636e+02],\n",
       "       [  2.59838261e+02,   9.56308820e+01],\n",
       "       [  2.58403014e+02,   1.63761529e+01],\n",
       "       [  2.39700089e+02,  -1.26327981e+01],\n",
       "       [  2.47713933e+02,   1.70668719e+01],\n",
       "       [  2.51461649e+02,   7.82382747e+01],\n",
       "       [  5.05237471e+02,  -1.33775582e+02],\n",
       "       [  5.28094214e+02,  -7.66053814e+01],\n",
       "       [  4.91129910e+02,  -1.59490157e+02],\n",
       "       [  5.08437198e+02,  -2.04384912e+02],\n",
       "       [  5.04074546e+02,  -1.30585161e+02],\n",
       "       [  5.23110117e+02,  -1.05780019e+02],\n",
       "       [  4.81809804e+02,  -1.36312792e+02],\n",
       "       [  5.44803741e+02,   1.08384338e+01],\n",
       "       [  5.08935686e+02,  -4.32363796e+01],\n",
       "       [  5.58689929e+02,  -1.90128186e+02],\n",
       "       [  5.09668203e+02,  -2.07733799e+02],\n",
       "       [  5.02418999e+02,  -1.50737013e+02],\n",
       "       [  5.17547013e+02,  -1.33326296e+01],\n",
       "       [  5.06892663e+02,   3.89316864e+01],\n",
       "       [  5.32356934e+02,  -1.54579982e+02],\n",
       "       [  5.13214694e+02,  -2.34086749e+01],\n",
       "       [  4.96880353e+02,  -7.33661810e+01],\n",
       "       [  5.25870564e+02,  -5.70052687e+01],\n",
       "       [  5.19685061e+02,  -1.46157606e+02],\n",
       "       [  5.21716658e+02,  -1.74775507e+02],\n",
       "       [  5.35144362e+02,  -7.06006459e+01],\n",
       "       [  5.28248911e+02,  -2.93954123e+01],\n",
       "       [  5.10877112e+02,  -2.53037628e+02],\n",
       "       [  4.85851101e+02,  -2.32075439e+02],\n",
       "       [  5.17681613e+02,  -2.59629982e+02],\n",
       "       [  8.50116509e+01,  -3.41621348e+01],\n",
       "       [  1.20833963e+02,   1.36319516e+02],\n",
       "       [  9.70780966e+01,   2.39610326e+02],\n",
       "       [  7.81327924e+02,  -1.73809026e+02],\n",
       "       [  8.32303024e+02,  -1.74647508e+02],\n",
       "       [  9.15668579e+02,  -1.26532043e+02],\n",
       "       [  9.19863928e+02,  -9.50504469e+01],\n",
       "       [  7.18255059e+02,  -4.50533923e+02],\n",
       "       [  9.62318595e+02,  -4.60401360e-01],\n",
       "       [ -1.39345309e+02,   3.89006082e+01],\n",
       "       [ -1.21104102e+02,  -4.33788829e+01],\n",
       "       [ -1.15123136e+02,   2.73045350e+01],\n",
       "       [ -1.15567806e+02,   1.12974191e+02],\n",
       "       [ -1.47937624e+02,   1.42470744e+01],\n",
       "       [ -1.46107785e+02,   1.90529181e+01],\n",
       "       [ -1.52005644e+02,   1.06501881e+01],\n",
       "       [ -1.37426684e+02,   1.36480991e+01],\n",
       "       [ -1.34941890e+02,   2.12589835e+00],\n",
       "       [ -1.37681331e+02,   1.51350106e+01],\n",
       "       [ -1.33379734e+02,   4.25715038e+00],\n",
       "       [ -1.31002495e+02,  -5.35613361e+01],\n",
       "       [ -1.43180780e+02,  -3.44236434e+01],\n",
       "       [ -1.51285877e+02,  -3.36418344e+01],\n",
       "       [ -1.38863357e+02,  -1.82498858e+01],\n",
       "       [ -1.26808022e+02,  -4.09109315e+01],\n",
       "       [ -1.27196066e+02,  -1.60431188e+01],\n",
       "       [ -1.48932012e+02,   2.59759658e+01],\n",
       "       [ -1.45985361e+02,  -3.57720654e+01],\n",
       "       [ -1.44000193e+02,  -4.74070712e-01],\n",
       "       [ -1.52850613e+02,  -7.11519102e+00],\n",
       "       [ -1.46919692e+02,   1.76777060e+01],\n",
       "       [ -1.45843660e+02,  -3.50727467e+01],\n",
       "       [ -1.37809357e+02,  -3.31211657e+01],\n",
       "       [ -1.31607967e+02,  -2.50419120e+01],\n",
       "       [ -1.41540323e+02,   1.41059214e+01],\n",
       "       [ -1.50669778e+02,  -1.15670963e+01],\n",
       "       [ -1.35830688e+02,   1.09244072e+01],\n",
       "       [ -1.39425397e+02,   3.11347131e+01],\n",
       "       [ -1.12349027e+02,  -3.56229801e+01],\n",
       "       [ -1.26997791e+02,  -1.05168072e+01],\n",
       "       [ -1.26847526e+02,  -2.63495738e+01],\n",
       "       [ -1.58532577e+02,   3.27487904e+01],\n",
       "       [ -1.59825929e+02,   1.95196364e+01],\n",
       "       [ -1.39931013e+02,   4.22040395e+01],\n",
       "       [ -1.64502683e+02,   3.02583420e+00],\n",
       "       [  4.91160487e+01,   6.88951136e+01],\n",
       "       [  7.08219722e+01,   9.88826992e+01],\n",
       "       [  8.90185782e+01,   1.39284669e+02],\n",
       "       [  6.66004622e+01,   1.51318563e+02],\n",
       "       [  4.45820474e+01,   8.65815464e+01],\n",
       "       [  6.81539332e+01,   1.00706055e+02],\n",
       "       [  4.98950555e+01,   1.25111210e+02],\n",
       "       [  9.04949293e+01,   2.13663945e+02],\n",
       "       [  5.05653711e+01,   9.92827299e+01],\n",
       "       [  6.05604840e+01,   7.01116782e+01],\n",
       "       [  2.65373587e+01,   6.31219639e+01],\n",
       "       [  5.72985203e+01,   5.74263246e+01],\n",
       "       [  5.76094166e+01,   5.77732773e+01],\n",
       "       [  4.50894502e+01,   5.45232717e+01],\n",
       "       [  7.52984487e+01,   1.29926555e+02],\n",
       "       [  5.03903000e+01,   9.40857095e+01],\n",
       "       [  5.01398536e+01,   7.54748499e+01],\n",
       "       [  7.96967969e+01,   9.69214676e+01],\n",
       "       [  5.29400156e+01,   1.19559639e+02],\n",
       "       [  4.14439734e+01,   7.95186579e+01],\n",
       "       [  7.40376695e+01,   8.63134305e+01],\n",
       "       [  5.47752303e+01,   7.34842253e+01],\n",
       "       [  2.82555570e+01,   5.47568528e+01],\n",
       "       [  4.11085971e+01,   7.10960282e+01],\n",
       "       [  5.74144577e+01,   7.50532070e+01],\n",
       "       [  6.21504199e+01,   1.06211155e+02],\n",
       "       [  5.56601655e+01,   1.07330030e+02],\n",
       "       [  3.78808109e+01,   7.34011749e+01],\n",
       "       [  2.80395757e+01,   2.93074836e+01],\n",
       "       [  2.81152421e+01,   3.10747057e+01],\n",
       "       [  3.47679308e+01,   3.49901777e+00],\n",
       "       [  3.53413845e+01,  -5.33857802e+00],\n",
       "       [  2.05639831e+01,   5.86028727e+01],\n",
       "       [  1.03034324e+02,   2.17046216e+02],\n",
       "       [ -7.57914257e+02,   8.02584251e+01],\n",
       "       [ -7.21923961e+02,   2.47789337e+01],\n",
       "       [ -7.16538852e+02,  -3.52232064e+01],\n",
       "       [ -7.30193647e+02,  -1.55027120e+02],\n",
       "       [  5.32991690e+02,  -1.74705122e+02],\n",
       "       [  6.47083279e+02,  -8.89456408e+01],\n",
       "       [  6.01046098e+02,  -2.66179890e+02],\n",
       "       [  5.46893938e+02,  -2.27554352e+02],\n",
       "       [  2.18611057e+02,   1.63031453e+01],\n",
       "       [  2.39653428e+02,  -1.65445924e+02],\n",
       "       [  2.27841783e+02,  -5.52339667e+01],\n",
       "       [  2.20986494e+02,  -2.72697290e+02]])"
      ]
     },
     "execution_count": 36,
     "metadata": {},
     "output_type": "execute_result"
    }
   ],
   "source": [
    "#Next: MNF\n",
    "#Then: MDA\n",
    "\n",
    "MNF = noise.MNF()\n",
    "#data = np.reshape(all_data,(10,21,6))\n",
    "print (mega_feature_array[0])\n",
    "result = MNF.apply(np.array([mega_feature_array]))\n",
    "print(result[0])\n",
    "#print np.shape(result)\n",
    "#print np.shape(MNF.get_components(2))\n",
    "np.reshape(MNF.get_components(2),(210,2))\n",
    "\n",
    "#MNF.display_components(n_first=1)"
   ]
  },
  {
   "cell_type": "code",
   "execution_count": null,
   "metadata": {
    "collapsed": true
   },
   "outputs": [],
   "source": []
  }
 ],
 "metadata": {
  "kernelspec": {
   "display_name": "Python 2",
   "language": "python",
   "name": "python2"
  },
  "language_info": {
   "codemirror_mode": {
    "name": "ipython",
    "version": 2
   },
   "file_extension": ".py",
   "mimetype": "text/x-python",
   "name": "python",
   "nbconvert_exporter": "python",
   "pygments_lexer": "ipython2",
   "version": "2.7.9"
  }
 },
 "nbformat": 4,
 "nbformat_minor": 0
}
