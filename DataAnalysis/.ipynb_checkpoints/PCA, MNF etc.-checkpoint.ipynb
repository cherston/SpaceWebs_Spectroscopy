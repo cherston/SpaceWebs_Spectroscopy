{
 "cells": [
  {
   "cell_type": "code",
   "execution_count": 4,
   "metadata": {
    "collapsed": false
   },
   "outputs": [],
   "source": [
    "import numpy as np\n",
    "import matplotlib.pyplot as plt\n",
    "import pysptools.noise as noise"
   ]
  },
  {
   "cell_type": "code",
   "execution_count": 5,
   "metadata": {
    "collapsed": false
   },
   "outputs": [],
   "source": [
    "\n",
    "#from taking n purest pixels \n",
    "purest_pixels_dict = np.load('./purest_pixels_dict.npy').item()\n",
    "\n",
    "#from subtracting out signal from background\n",
    "pure_signal_dict = np.load('./pure_signal_dict.npy').item()"
   ]
  },
  {
   "cell_type": "code",
   "execution_count": 12,
   "metadata": {
    "collapsed": false
   },
   "outputs": [],
   "source": [
    "#http://evols.library.manoa.hawaii.edu/bitstream/handle/10524/35872/vol3-Poop-Que(LO).pdf#page=11\n",
    "#Olivenza: Took average for LL chondrite \n",
    "#'H' has about 25-30% total Iron (with over half in metallic form =>strongly magnetic)\n",
    "#L contains 20-25% (with 5-10% in uncombined metal state)\n",
    "#'LL' contain 19-22% iron (with only 0.3-3% metallic iron)\n",
    "CLASSIFICATION_PER_SPECIMEN =  {'Abee':'EH4', 'Acapulco':'Acapulcoite', 'Allende':'CV3','Brownsfield':'H3.7',\n",
    "                                'Estacado':'H6', 'Estacado2':'H6', 'Gibeon':'IronIva', 'Hessle':'H5', \n",
    "                                'Holbrook':\"L/LL6\", 'Homestead':'L5','Homestead2':'L5','Millbilille':'Eucrite-mmict',\n",
    "                                'Olivenza':\"LL5\", 'Peekshill':'H6',\n",
    "                                'PutnamCounty':'IronIva', 'Soku':'LL4', 'Steinbach1':'IronIva', 'Steinbach2':'IronIva', \n",
    "                                'Sutton':'H5','Toluca1':'IronIAB-sLL', 'Toluca2':'IronIAB-sLL', 'Toluca3':'IronIAB-sLL', \n",
    "                                'TolucaBig':'IronIAB-sLL'}\n",
    "\n",
    "IRON_CATEGORY_PER_SPECIMEN = {'Abee':32.52, 'Acapulco':27.5, 'Allende':23.85,'Brownsfield':'H','Estacado':27.88, \n",
    "                                'Estacado2':27.88, 'Gibeon':91.8, 'Hessle':'H', 'Holbrook':\"L/LL\", 'Homestead':'L',\n",
    "                                'Homestead2':'L','Millbilille':'L','Olivenza':\"LL\", 'Peekshill':'H',\n",
    "                                'PutnamCounty':91.57, 'Soku':'LL', 'Steinbach1':'HH', 'Steinbach2':'HH', 'Sutton':'H', \n",
    "                                'Toluca1':91, 'Toluca2':91, 'Toluca3':91, 'TolucaBig':91}\n",
    "\n",
    "IRON_ALL_CATEGORIZED = {'Abee':'H', 'Acapulco':'H', 'Allende':'L','Brownsfield':'H','Estacado':'H', \n",
    "                                'Estacado2':'H', 'Gibeon':'HH', 'Hessle':'H', 'Holbrook':\"L/LL\", 'Homestead':'L',\n",
    "                                'Homestead2':'L','Millbilille':'L','Olivenza':\"LL\", 'Peekshill':'H',\n",
    "                                'PutnamCounty':'H', 'Soku':'LL', 'Steinbach1':'HH', 'Steinbach2':'HH', 'Sutton':'H', \n",
    "                                'Toluca1':'HH', 'Toluca2':'HH', 'Toluca3':'HH', 'TolucaBig':'HH'}\n",
    "\n",
    "IRON_SIMPLE_CATEGORIZED = {'Abee':'L', 'Acapulco':'L', 'Allende':'L','Brownsfield':'L','Estacado':'L', \n",
    "                                'Estacado2':'L', 'Gibeon':'HH', 'Hessle':'L', 'Holbrook':\"L\", 'Homestead':'L',\n",
    "                                'Homestead2':'L','Millbilille':'L','Olivenza':\"L\", 'Peekshill':'L',\n",
    "                                'PutnamCounty':'L', 'Soku':'L', 'Steinbach1':'HH', 'Steinbach2':'HH', 'Sutton':'', \n",
    "                                'Toluca1':'HH', 'Toluca2':'HH', 'Toluca3':'HH', 'TolucaBig':'HH'}\n",
    "\n",
    "IRON_SIMPLE_NUMERICAL = {'Abee':0, 'Acapulco':0, 'Allende':0,'Brownsfield':0,'Estacado':0, \n",
    "                                'Estacado2':0, 'Gibeon':1, 'Hessle':0, 'Holbrook':0, 'Homestead':0,\n",
    "                                'Homestead2':0,'Millbilille':0,'Olivenza':0, 'Peekshill':0,\n",
    "                                'PutnamCounty':0, 'Soku':0, 'Steinbach1':1, 'Steinbach2':1, 'Sutton':0, \n",
    "                                'Toluca1':1, 'Toluca2':1, 'Toluca3':1, 'TolucaBig':1}\n",
    "\n",
    "IRON_PERCENTAGE_IF_AVAILABLE = {'Abee':32.52, 'Acapulco':27.5, 'Allende':23.85,'Estacado':27.88, \n",
    "                                'Estacado2':27.88, 'Gibeon':91.8, 'PutnamCounty':91.57,'Toluca1':91, \n",
    "                                'Toluca2':91, 'Toluca3':91, 'TolucaBig':91}\n",
    "\n",
    "COLORS = {'Abee':'darkslateblue', 'Acapulco':'green', 'Allende':'blue','Brownsfield':'yellow',\n",
    "                                'Estacado':'purple', 'Estacado2':'brown', 'Gibeon':'black', 'Hessle':'lime', \n",
    "                                'Holbrook':\"orange\", 'Homestead':'grey','Homestead2':'lightgreen',\n",
    "                                  'Millbilille':'lightcoral',\n",
    "                                'Olivenza':\"c\", 'Peekshill':'cyan',\n",
    "                                'PutnamCounty':'pink', 'Soku':'silver', 'Steinbach1':'maroon', 'Steinbach2':'fuchsia', \n",
    "                                'Sutton':'lawngreen','Toluca1':'cyan', 'Toluca2':'ivory', 'Toluca3':'olive', \n",
    "                                'TolucaBig':'red'}\n"
   ]
  },
  {
   "cell_type": "code",
   "execution_count": 13,
   "metadata": {
    "collapsed": false
   },
   "outputs": [
    {
     "name": "stdout",
     "output_type": "stream",
     "text": [
      "(229, 6)\n",
      "(229,)\n"
     ]
    }
   ],
   "source": [
    "#create matrix of all data samples (no classes)\n",
    "all_data = []\n",
    "all_data_simplified_classes = []\n",
    "all_data_standard_classes = []\n",
    "all_data_simplified_numerical = []\n",
    "simplified_classes = ['HH','L']\n",
    "standard_classes = ['HH','H','L','L/LL','LL']\n",
    "all_data_meteorite_classes = []\n",
    "\n",
    "\n",
    "for i,sample in enumerate(pure_signal_dict): \n",
    "    for j,row in enumerate(pure_signal_dict[sample]):\n",
    "        #if sample == 'TolucaBig':\n",
    "        #    continue\n",
    "        all_data.append(row)\n",
    "        all_data_simplified_classes.append(IRON_SIMPLE_CATEGORIZED[sample])\n",
    "        all_data_standard_classes.append(IRON_ALL_CATEGORIZED[sample])\n",
    "        all_data_simplified_numerical.append(IRON_SIMPLE_NUMERICAL[sample])\n",
    "        all_data_meteorite_classes.append(sample)\n",
    "        \n",
    "\n",
    "print np.shape(all_data)\n",
    "print np.shape(all_data_simplified_classes)"
   ]
  },
  {
   "cell_type": "code",
   "execution_count": 74,
   "metadata": {
    "collapsed": false
   },
   "outputs": [
    {
     "name": "stdout",
     "output_type": "stream",
     "text": [
      "(23, 6)\n"
     ]
    }
   ],
   "source": [
    "all_data_mean = []\n",
    "all_data_mean_classes = []\n",
    "for sample in pure_signal_dict: \n",
    "    all_data_mean.append(np.mean(pure_signal_dict[sample], axis=0))\n",
    "    all_data_mean_classes.append(sample)\n",
    "    \n",
    "print np.shape(all_data_mean)\n",
    "    \n",
    "    "
   ]
  },
  {
   "cell_type": "code",
   "execution_count": 14,
   "metadata": {
    "collapsed": false
   },
   "outputs": [],
   "source": [
    "import itertools\n",
    "band = [610,680,730,760,810,860]\n",
    "\n",
    "def add_many_variables(spectrum):\n",
    "    pairs = list(itertools.combinations(spectrum, 2))\n",
    "  \n",
    "    \n",
    "    differences = [abs(b-a) for (a,b) in pairs]\n",
    "    differences_squared = [abs(b-a)**2 for (a,b) in pairs]\n",
    " \n",
    "    ratios = [float(b)/float(a) for (a,b) in pairs]\n",
    "    ratios_squared = [(float(b)/float(a))**2 for (a,b) in pairs]\n",
    "    #return spectrum\n",
    "    #return np.concatenate((spectrum,differences))\n",
    "    #return np.concatenate((spectrum,differences))\n",
    "    #return ratios\n",
    "    #based on expected iron changes\n",
    "    #return [spectrum[0],spectrum[1],spectrum[5]]\n",
    "    return spectrum\n",
    "    #return np.concatenate((spectrum,differences,ratios))\n",
    "    #sums \n",
    "    #slopes = [(b-a)/(band[i] for i, (a,b) in enumerate(pairs)]\n",
    "#NOTE: tried a bunch of stuff. Seemed like just using the spectrum itself worked best, though it would be \n",
    "#nice in partiuclar to pay attention to the ratio results since this helps get rid of any noise across all channels"
   ]
  },
  {
   "cell_type": "code",
   "execution_count": 15,
   "metadata": {
    "collapsed": false
   },
   "outputs": [
    {
     "name": "stdout",
     "output_type": "stream",
     "text": [
      "(229, 6)\n",
      "(229, 6)\n",
      "[ 0.64747422  0.71479889  0.61109684  0.60517745  0.56553385  0.50359891]\n"
     ]
    }
   ],
   "source": [
    "mega_feature_array = []\n",
    "\n",
    "def build_mega_feature_array(original_dataset): \n",
    "    for sample in original_dataset: \n",
    "        mega_feature_array.append(add_many_variables(sample))\n",
    "\n",
    "build_mega_feature_array(all_data)\n",
    "  \n",
    "print np.shape(all_data)\n",
    "print np.shape(mega_feature_array)\n",
    "print mega_feature_array[1]\n"
   ]
  },
  {
   "cell_type": "code",
   "execution_count": 26,
   "metadata": {
    "collapsed": false
   },
   "outputs": [],
   "source": [
    "whitener = noise.Whiten()\n",
    "whitened = (whitener.apply(np.array([mega_feature_array])))[0] \n",
    " "
   ]
  },
  {
   "cell_type": "code",
   "execution_count": 16,
   "metadata": {
    "collapsed": false
   },
   "outputs": [
    {
     "name": "stdout",
     "output_type": "stream",
     "text": [
      "(229, 6)\n",
      "(229, 2)\n",
      "[ 0.87662649  0.10912769]\n",
      "[[ 0.46286942  0.28284312  0.43951365  0.44139544  0.40007214  0.39710423]\n",
      " [-0.32990155 -0.06292226 -0.37289958 -0.201542    0.26619101  0.79791906]]\n"
     ]
    }
   ],
   "source": [
    "from sklearn.decomposition import PCA as sklearnPCA\n",
    "sklearn_pca = sklearnPCA(n_components=2)\n",
    "print np.shape(mega_feature_array)\n",
    "data_r = sklearn_pca.fit_transform(mega_feature_array)\n",
    "print np.shape(data_r)\n",
    "print sklearn_pca.explained_variance_ratio_\n",
    "print sklearn_pca.components_\n",
    "\n",
    " \n",
    " "
   ]
  },
  {
   "cell_type": "code",
   "execution_count": 9,
   "metadata": {
    "collapsed": false
   },
   "outputs": [],
   "source": [
    "colors = {}\n",
    "for i, row in enumerate(data_r): \n",
    "    if all_data_standard_classes[i] == 'HH': \n",
    "        plt.scatter(row[0],row[1], color='red')\n",
    "    elif all_data_standard_classes[i] == 'H':\n",
    "        plt.scatter(row[0],row[1], color='green')\n",
    "    elif all_data_standard_classes[i] == 'L':\n",
    "        plt.scatter(row[0],row[1], color='blue')\n",
    "    elif all_data_standard_classes[i] == 'L/LL':\n",
    "        plt.scatter(row[0],row[1], color='yellow')\n",
    "    elif all_data_standard_classes[i] == 'LL':\n",
    "        plt.scatter(row[0],row[1], color='purple')\n",
    "#plt.xlim(-2,0)\n",
    "plt.show()\n",
    "#plt.savefig('../results/MNF_5_cat')\n",
    " \n",
    "     "
   ]
  },
  {
   "cell_type": "code",
   "execution_count": 10,
   "metadata": {
    "collapsed": true
   },
   "outputs": [],
   "source": [
    "colors = {}\n",
    "for i, row in enumerate(data_r): \n",
    "    if all_data_standard_classes[i] == 'HH': \n",
    "        plt.scatter(row[0],row[1], color='red')\n",
    "    elif all_data_standard_classes[i] == 'H':\n",
    "        continue\n",
    "    elif all_data_standard_classes[i] == 'L':\n",
    "        plt.scatter(row[0],row[1], color='blue')\n",
    "    elif all_data_standard_classes[i] == 'L/LL':\n",
    "        plt.scatter(row[0],row[1], color='yellow')\n",
    "    elif all_data_standard_classes[i] == 'LL':\n",
    "        plt.scatter(row[0],row[1], color='purple')\n",
    "#plt.xlim(-2,1)\n",
    "plt.show()\n",
    "#plt.savefig('../results/MNF_4_cat')"
   ]
  },
  {
   "cell_type": "code",
   "execution_count": 17,
   "metadata": {
    "collapsed": false
   },
   "outputs": [],
   "source": [
    "colors = {}\n",
    "for i, row in enumerate(data_r): \n",
    "    if all_data_standard_classes[i] == 'H':\n",
    "        continue\n",
    "    elif all_data_standard_classes[i] == 'L':\n",
    "        plt.scatter(row[0],row[1], color='blue')\n",
    "    elif all_data_standard_classes[i] == 'L/LL':\n",
    "        plt.scatter(row[0],row[1], color='blue')\n",
    "    elif all_data_standard_classes[i] == 'LL':\n",
    "        plt.scatter(row[0],row[1], color='blue')\n",
    "    elif all_data_standard_classes[i] == 'HH': \n",
    "        plt.scatter(row[0],row[1], color='red')\n",
    "#plt.xlim(-3,0)\n",
    "plt.show()\n",
    "#plt.savefig('../results/MNF_HHv3Ls')\n",
    " "
   ]
  },
  {
   "cell_type": "code",
   "execution_count": 40,
   "metadata": {
    "collapsed": false
   },
   "outputs": [],
   "source": [
    "for i, row in enumerate(data_r): \n",
    "    plt.scatter(row[0],row[1], color=COLORS[all_data_meteorite_classes[i]])\n",
    "plt.show()\n",
    "#plt.savefig('../results/PCA_meteorite')"
   ]
  },
  {
   "cell_type": "code",
   "execution_count": 57,
   "metadata": {
    "collapsed": false
   },
   "outputs": [
    {
     "name": "stdout",
     "output_type": "stream",
     "text": [
      "(36,)\n",
      "[  2.91118664e+02  -2.60388204e+02  -1.20729824e+01  -1.05687754e+02\n",
      "  -8.20151231e+00  -1.29986141e+01   9.65753892e+00  -4.58628797e+00\n",
      "  -1.05393518e+01  -1.06223109e+01  -1.23017876e+00   6.60670070e-01\n",
      "  -2.23802891e+00  -5.94964210e-01   3.48293547e-01   2.04852549e+00\n",
      "  -1.50878244e-01   2.37773862e-01   2.71478339e-01  -5.09391359e-01\n",
      "   5.71716209e-01   7.19170805e-02  -3.08552963e-01  -8.96766358e-01\n",
      "   8.76632218e-01   2.59245523e-01   4.17494021e-01  -3.95420813e-01\n",
      "  -2.28025100e-01   3.60496539e-02   8.31822560e-02  -8.57222671e-02\n",
      "  -2.79463787e-02  -2.09813820e-02   8.82380439e-03  -1.44782537e-02]\n",
      "(1, 210, 2)\n"
     ]
    }
   ],
   "source": [
    "#Next: MNF\n",
    "#Then: MDA\n",
    "\n",
    "MNF = noise.MNF()\n",
    "#data = np.reshape(all_data,(10,21,6))\n",
    "#print (mega_feature_array[0])\n",
    "result = MNF.apply(np.array([mega_feature_array]))\n",
    "#print(result[0])\n",
    "print np.shape(result[0][0])\n",
    "print result[0][2]\n",
    "components = MNF.get_components(2) \n",
    "print np.shape(components)\n",
    "#components = np.reshape(components,(210,2))\n",
    "#print np.shape(components)\n",
    "for i, crow in enumerate(components): \n",
    "    sample = all_data_meteorite_classes[i]\n",
    "    iron_level = IRON_ALL_CATEGORIZED[sample]\n",
    "    if iron_level == 'HH':\n",
    "        color = 'red'\n",
    "    elif iron_level == 'L' or iron_level == 'LL' or iron_level == 'L/LL': \n",
    "        color = 'blue'\n",
    "    else:\n",
    "        continue\n",
    "    \n",
    "    plt.scatter(crow[0],crow[1], color=color)\n",
    "#plt.show()\n",
    "#plt.savefig('../results/MNF_iron_2cat')\n",
    "#MNF.display_components(n_first=1)"
   ]
  },
  {
   "cell_type": "code",
   "execution_count": null,
   "metadata": {
    "collapsed": false
   },
   "outputs": [],
   "source": [
    "from sklearn.discriminant_analysis import QuadraticDiscriminantAnalysis\n",
    "# Parameters\n",
    "n_classes = 2\n",
    "plot_colors = \"bry\"\n",
    "plot_step = 0.001\n",
    "\n",
    "qda = QuadraticDiscriminantAnalysis(store_covariances=True)\n",
    "X = data_r\n",
    "y = all_data_simplified_numerical\n",
    " \n",
    "clf = qda.fit(X,y)\n",
    "#print qda_result\n",
    " \n",
    "x_min, x_max = X[:, 0].min() - 1, X[:, 0].max() + 0.1\n",
    "y_min, y_max = X[:, 1].min() - 1, X[:, 1].max() + 0.1\n",
    "xx, yy = np.meshgrid(np.arange(x_min, x_max, plot_step),np.arange(y_min, y_max, plot_step))\n",
    " \n",
    "Z = clf.predict(np.c_[xx.ravel(), yy.ravel()])\n",
    "Z = Z.reshape(xx.shape)\n",
    "cs = plt.contourf(xx, yy, Z, cmap=plt.cm.Paired)\n",
    "plt.scatter(X[:, 0], X[:, 1], c=y, cmap=plt.cm.coolwarm)\n",
    "plt.show()"
   ]
  },
  {
   "cell_type": "code",
   "execution_count": null,
   "metadata": {
    "collapsed": true
   },
   "outputs": [],
   "source": []
  }
 ],
 "metadata": {
  "kernelspec": {
   "display_name": "Python 2",
   "language": "python",
   "name": "python2"
  },
  "language_info": {
   "codemirror_mode": {
    "name": "ipython",
    "version": 2
   },
   "file_extension": ".py",
   "mimetype": "text/x-python",
   "name": "python",
   "nbconvert_exporter": "python",
   "pygments_lexer": "ipython2",
   "version": "2.7.9"
  }
 },
 "nbformat": 4,
 "nbformat_minor": 0
}
