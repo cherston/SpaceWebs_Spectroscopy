{
 "cells": [
  {
   "cell_type": "code",
   "execution_count": 21,
   "metadata": {
    "collapsed": false
   },
   "outputs": [],
   "source": [
    "import numpy as np\n",
    "import matplotlib.pyplot as plt\n",
    "import pysptools.util as util\n",
    "import pysptools.eea as eea\n",
    "import pysptools.classification as clssf\n",
    "import pysptools.abundance_maps as amap\n",
    "import pysptools.noise.dnoise as denoise\n",
    "import os"
   ]
  },
  {
   "cell_type": "code",
   "execution_count": 22,
   "metadata": {
    "collapsed": false
   },
   "outputs": [],
   "source": [
    "dataCubes = np.load('meteoriteDataCubes.npy').item()\n",
    "backgroundCubes = np.load('backgroundDataCubes.npy').item()"
   ]
  },
  {
   "cell_type": "code",
   "execution_count": 23,
   "metadata": {
    "collapsed": false
   },
   "outputs": [],
   "source": [
    "def addBackgroundColumnsToData(): \n",
    "    for sample in dataCubes: \n",
    "        BlackBackground = np.repeat([[backgroundCubes['CallibrationReadingFar']]], len(dataCubes[sample]), axis=0); \n",
    "        Velvet = np.repeat([[backgroundCubes['VelvetFar']]], len(dataCubes[sample]), axis=0); \n",
    "        dataWithBackground = np.concatenate((dataCubes[sample],BlackBackground,Velvet), axis=1)\n",
    "        dataCubesWithBackground[sample] = dataWithBackground"
   ]
  },
  {
   "cell_type": "code",
   "execution_count": 24,
   "metadata": {
    "collapsed": false
   },
   "outputs": [],
   "source": [
    "dataCubesWithBackground = {}\n",
    "addBackgroundColumnsToData()"
   ]
  },
  {
   "cell_type": "code",
   "execution_count": 25,
   "metadata": {
    "collapsed": false
   },
   "outputs": [],
   "source": [
    "def getNormalizationMaxVals(cube):\n",
    "    samples = []\n",
    "    for sample in cube:\n",
    "        for row in cube[sample]:\n",
    "            samples.append(row)\n",
    "    samples = np.reshape(samples,(867,6))\n",
    "    return np.max(np.transpose(samples), axis=1)\n",
    "     \n",
    "    #np.reshape(samples, (51,17,6))\n",
    "        \n",
    "\n",
    "        "
   ]
  },
  {
   "cell_type": "code",
   "execution_count": 26,
   "metadata": {
    "collapsed": false
   },
   "outputs": [
    {
     "name": "stdout",
     "output_type": "stream",
     "text": [
      "[  393.26     15.995   830.29    947.27     23.955  1293.715]\n"
     ]
    }
   ],
   "source": [
    "NormalizationMaxVals = getNormalizationMaxVals(dataCubesWithBackground)\n",
    "print NormalizationMaxVals"
   ]
  },
  {
   "cell_type": "code",
   "execution_count": 27,
   "metadata": {
    "collapsed": false
   },
   "outputs": [
    {
     "name": "stdout",
     "output_type": "stream",
     "text": [
      "[[[  78.97          6.86        148.87        106.85          3.12         58.2       ]\n",
      "  [  89.34666667    7.24        166.22333333  126.01666667    3.12         92.15      ]\n",
      "  [ 176.88666667    9.14        290.08        295.69666667    9.02333333\n",
      "    468.42      ]\n",
      "  [ 193.13333333    9.9         353.82333333  354.27333333    9.71666667\n",
      "    495.09666667]\n",
      "  [ 201.25333333    9.9         359.47        356.40333333   10.06333333\n",
      "    519.75      ]\n",
      "  [ 226.97666667   11.04666667  411.51666667  411.78         12.15333333\n",
      "    668.07333333]\n",
      "  [ 252.69333333   11.04666667  416.35666667  436.62666667   13.88666667\n",
      "    730.31333333]\n",
      "  [ 248.63666667   11.04666667  551.91666667  513.66         11.80333333\n",
      "    526.21333333]\n",
      "  [ 161.99666667    9.52        388.52        330.13          6.94333333\n",
      "    257.85      ]\n",
      "  [ 143.49333333    8.          277.17        219.02          5.55666667\n",
      "    229.15666667]\n",
      "  [ 264.42666667   11.04666667  463.15666667  480.64333333   14.58\n",
      "    766.68666667]\n",
      "  [ 208.47333333   10.28        403.84666667  417.10333333   11.11\n",
      "    575.52333333]\n",
      "  [ 192.22666667    9.9         358.26        361.01666667   10.06333333\n",
      "    500.35      ]\n",
      "  [ 177.33666667    9.9         329.61333333  324.81          9.02333333\n",
      "    455.49      ]\n",
      "  [ 183.20666667    9.9         339.3         337.58666667   10.06333333\n",
      "    506.81666667]\n",
      "  [  75.41955556    6.86        140.18488889  100.78888889    3.05066667\n",
      "     62.10644444]\n",
      "  [  74.69911111    6.86        139.674        98.28088889    3.05066667\n",
      "     53.32311111]]\n",
      "\n",
      " [[  82.58          7.24        151.69333333  116.43333333    3.47        105.08      ]\n",
      "  [  83.93          6.86        152.90333333  121.04666667    3.47\n",
      "    122.86666667]\n",
      "  [  79.87          6.86        150.88666667  107.91          3.12         60.62      ]\n",
      "  [ 187.26666667    9.14        321.95        309.89666667    9.71666667\n",
      "    480.14      ]\n",
      "  [ 226.07666667   10.28        417.97333333  408.93666667   11.80333333\n",
      "    571.47666667]\n",
      "  [ 229.68333333   10.28        423.62        425.97666667   11.80333333\n",
      "    610.68333333]\n",
      "  [ 208.92333333   10.66333333  399.00666667  407.87         11.80333333\n",
      "    600.98666667]\n",
      "  [ 185.91          9.9         338.09        344.33333333    9.71666667\n",
      "    499.54333333]\n",
      "  [ 192.68          9.9         364.71333333  370.25         10.06333333\n",
      "    493.48      ]\n",
      "  [ 185.00666667    9.14        348.17666667  336.88          9.02333333\n",
      "    454.27333333]\n",
      "  [ 180.49666667    9.52        340.51        335.81          9.37\n",
      "    470.84333333]\n",
      "  [ 185.00666667    9.52        333.64666667  330.84333333    9.71666667\n",
      "    480.54666667]\n",
      "  [ 175.08          9.9         349.38666667  340.42666667    9.02333333\n",
      "    474.08      ]\n",
      "  [ 106.04          8.          271.11333333  212.99          4.17        143.88      ]\n",
      "  [  90.25          7.62        157.34        128.85666667    4.17\n",
      "    174.19333333]\n",
      "  [  75.41955556    6.86        140.18488889  100.78888889    3.05066667\n",
      "     62.10644444]\n",
      "  [  74.69911111    6.86        139.674        98.28088889    3.05066667\n",
      "     53.32311111]]\n",
      "\n",
      " [[  83.02666667    6.86        153.71        119.98333333    3.47\n",
      "    106.29666667]\n",
      "  [  79.42          6.86        149.27333333  106.85          3.12\n",
      "     59.81333333]\n",
      "  [ 185.91333333    9.14        294.51666667  277.95          9.71666667\n",
      "    475.69666667]\n",
      "  [ 207.11666667   10.28        381.26        386.57333333   10.76333333\n",
      "    555.31333333]\n",
      "  [ 212.08666667    9.9         392.95666667  386.22         10.76333333\n",
      "    534.29666667]\n",
      "  [ 200.80333333    9.9         373.19        364.21333333   10.06333333\n",
      "    492.26333333]\n",
      "  [ 192.68          9.9         354.63        348.59333333   10.06333333\n",
      "    480.95      ]\n",
      "  [ 174.63          9.14        321.14333333  315.93333333    9.02333333\n",
      "    402.54      ]\n",
      "  [ 196.74          9.14        359.06666667  339.36333333    9.71666667\n",
      "    343.13      ]\n",
      "  [  98.37          8.          268.69666667  209.79333333    3.82\n",
      "     88.10666667]\n",
      "  [  89.34666667    6.86        155.72666667  124.95          4.17\n",
      "    166.91666667]\n",
      "  [  90.25          7.24        155.72666667  127.43666667    4.17        172.98      ]\n",
      "  [  89.8           7.24        155.32333333  127.08          4.17        172.17      ]\n",
      "  [  89.34666667    7.24        155.32333333  126.72666667    4.17\n",
      "    172.57333333]\n",
      "  [  89.79666667    7.62        154.92        126.72666667    4.17        172.17      ]\n",
      "  [  75.41955556    6.86        140.18488889  100.78888889    3.05066667\n",
      "     62.10644444]\n",
      "  [  74.69911111    6.86        139.674        98.28088889    3.05066667\n",
      "     53.32311111]]]\n",
      "[  393.26     15.995   830.29    947.27     23.955  1293.715]\n",
      "[[[ 0.20080863  0.42888403  0.1792988   0.11279783  0.13024421  0.04498672]\n",
      "  [ 0.2271949   0.45264145  0.20019913  0.13303141  0.13024421  0.07122898]\n",
      "  [ 0.44979572  0.57142857  0.34937191  0.31215669  0.37667849  0.36207356]\n",
      "  [ 0.49110851  0.61894342  0.42614428  0.37399404  0.40562165  0.38269377]\n",
      "  [ 0.51175643  0.61894342  0.43294512  0.37624261  0.42009323  0.40175   ]\n",
      "  [ 0.57716693  0.69063249  0.49563004  0.43470183  0.50734015  0.51639916]\n",
      "  [ 0.64256048  0.69063249  0.50145933  0.46093159  0.57969804  0.56450867]\n",
      "  [ 0.63224499  0.69063249  0.66472759  0.542253    0.49272942  0.40674595]\n",
      "  [ 0.41193273  0.595186    0.46793289  0.34850676  0.28984902  0.19930974]\n",
      "  [ 0.36488159  0.5001563   0.33382312  0.2312118   0.23196271  0.17713072]\n",
      "  [ 0.67239655  0.69063249  0.55782518  0.50739845  0.6086412   0.59262408]\n",
      "  [ 0.53011578  0.64270084  0.4863923   0.44032149  0.46378627  0.44486099]\n",
      "  [ 0.488803    0.61894342  0.43148779  0.38111274  0.42009323  0.38675442]\n",
      "  [ 0.45094001  0.61894342  0.39698579  0.34289062  0.37667849  0.35207909]\n",
      "  [ 0.46586652  0.61894342  0.4086524   0.35637851  0.42009323  0.39175295]\n",
      "  [ 0.19178039  0.42888403  0.16883846  0.10639933  0.12734989  0.04800628]\n",
      "  [ 0.18994841  0.42888403  0.16822315  0.10375172  0.12734989  0.04121705]]\n",
      "\n",
      " [[ 0.2099883   0.45264145  0.18269922  0.12291462  0.14485494  0.08122345]\n",
      "  [ 0.21342115  0.42888403  0.18415654  0.12778476  0.14485494  0.09497197]\n",
      "  [ 0.20309719  0.42888403  0.18172767  0.11391683  0.13024421  0.04685731]\n",
      "  [ 0.47619048  0.57142857  0.38775609  0.32714714  0.40562165  0.37113275]\n",
      "  [ 0.57487837  0.64270084  0.50340644  0.43170022  0.49272942  0.44173305]\n",
      "  [ 0.58404957  0.64270084  0.51020728  0.44968875  0.49272942  0.47203854]\n",
      "  [ 0.53126007  0.66666667  0.48056302  0.43057418  0.49272942  0.46454332]\n",
      "  [ 0.47274068  0.61894342  0.40719508  0.36350073  0.40562165  0.3861309 ]\n",
      "  [ 0.48995575  0.61894342  0.43926018  0.39086005  0.42009323  0.38144414]\n",
      "  [ 0.47044364  0.57142857  0.41934344  0.3556325   0.37667849  0.35113865]\n",
      "  [ 0.4589754   0.595186    0.41010972  0.35450294  0.39115007  0.36394672]\n",
      "  [ 0.47044364  0.595186    0.40184353  0.3492598   0.40562165  0.37144709]\n",
      "  [ 0.44520165  0.61894342  0.42080076  0.35937659  0.37667849  0.36644856]\n",
      "  [ 0.26964349  0.5001563   0.32652848  0.22484614  0.17407639  0.1112146 ]\n",
      "  [ 0.22949194  0.47639887  0.18950005  0.1360295   0.17407639  0.13464583]\n",
      "  [ 0.19178039  0.42888403  0.16883846  0.10639933  0.12734989  0.04800628]\n",
      "  [ 0.18994841  0.42888403  0.16822315  0.10375172  0.12734989  0.04121705]]\n",
      "\n",
      " [[ 0.21112411  0.42888403  0.18512809  0.12666223  0.14485494  0.0821639 ]\n",
      "  [ 0.20195291  0.42888403  0.17978457  0.11279783  0.13024421  0.04623378]\n",
      "  [ 0.47274916  0.57142857  0.35471542  0.29342215  0.40562165  0.36769819]\n",
      "  [ 0.52666599  0.64270084  0.45918896  0.40809203  0.44931469  0.42923931]\n",
      "  [ 0.53930394  0.61894342  0.47327641  0.40771902  0.44931469  0.4129941 ]\n",
      "  [ 0.51061215  0.61894342  0.44946946  0.38448735  0.42009323  0.38050369]\n",
      "  [ 0.48995575  0.61894342  0.42711583  0.36799786  0.42009323  0.37175885]\n",
      "  [ 0.44405737  0.57142857  0.38678454  0.33351983  0.37667849  0.31115045]\n",
      "  [ 0.50027971  0.57142857  0.43245934  0.35825407  0.40562165  0.26522843]\n",
      "  [ 0.25013986  0.5001563   0.32361785  0.22147153  0.15946566  0.06810361]\n",
      "  [ 0.2271949   0.42888403  0.18755696  0.13190537  0.17407639  0.1290212 ]\n",
      "  [ 0.22949194  0.45264145  0.18755696  0.13453046  0.17407639  0.13370797]\n",
      "  [ 0.22834766  0.45264145  0.18707118  0.13415394  0.17407639  0.13308186]\n",
      "  [ 0.2271949   0.45264145  0.18707118  0.13378094  0.17407639  0.13339362]\n",
      "  [ 0.22833918  0.47639887  0.18658541  0.13378094  0.17407639  0.13308186]\n",
      "  [ 0.19178039  0.42888403  0.16883846  0.10639933  0.12734989  0.04800628]\n",
      "  [ 0.18994841  0.42888403  0.16822315  0.10375172  0.12734989  0.04121705]]]\n"
     ]
    }
   ],
   "source": [
    "def NormalizeCubePerColumn(cube):\n",
    "    normalized_cube = cube \n",
    "    print NormalizationMaxVals\n",
    "    for sample in normalized_cube: \n",
    "        for i, row in enumerate(normalized_cube[sample]): \n",
    "            normalized_cube[sample][i] = normalized_cube[sample][i] /  NormalizationMaxVals\n",
    "    #print cube\n",
    "    return normalized_cube\n",
    "print dataCubesWithBackground['Allende']\n",
    "normalizedDataCubesWithBackground = NormalizeCubePerColumn(dataCubesWithBackground)      \n",
    "print normalizedDataCubesWithBackground['Allende']\n",
    "#print normalizedDataCubesWithBackground['Toluca']"
   ]
  },
  {
   "cell_type": "code",
   "execution_count": null,
   "metadata": {
    "collapsed": false
   },
   "outputs": [],
   "source": [
    "#display spectral lines \n",
    "#for sample in dataCubes: \n",
    "#    util.display_linear_stretch(dataCubes[sample],1,3,5)\n",
    "    #spectral_lines = util.convert2d(sample); "
   ]
  },
  {
   "cell_type": "code",
   "execution_count": 28,
   "metadata": {
    "collapsed": true
   },
   "outputs": [],
   "source": [
    "#Taken from: https://www.quora.com/How-do-I-generate-n-visually-distinct-RGB-colours-in-Python\n",
    "def get_spaced_colors(n):\n",
    "    max_value = 16581375 #255**3\n",
    "    interval = int(max_value / n)\n",
    "    colors = [hex(I)[2:].zfill(6) for I in range(0, max_value, interval)]\n",
    "    \n",
    "    return [(int(i[:2], 16), int(i[2:4], 16), int(i[4:], 16)) for i in colors]"
   ]
  },
  {
   "cell_type": "code",
   "execution_count": 29,
   "metadata": {
    "collapsed": false
   },
   "outputs": [],
   "source": [
    "def ATGP(sample):  \n",
    "    ATGP = eea.ATGP()\n",
    "    ATGP.extract(sample,q=2)\n",
    "    return ATGP.get_idx()\n",
    "    #ATGP.display()\n"
   ]
  },
  {
   "cell_type": "code",
   "execution_count": 30,
   "metadata": {
    "collapsed": true
   },
   "outputs": [],
   "source": [
    "def NFINDR(sample): \n",
    "    NFINDR = eea.NFINDR()\n",
    "    NFINDR.extract(sample, q=2)\n",
    "    return NFINDR.get_idx()\n",
    "    #NFINDR.display()\n",
    "    "
   ]
  },
  {
   "cell_type": "code",
   "execution_count": 31,
   "metadata": {
    "collapsed": true
   },
   "outputs": [],
   "source": [
    "def FIPPI(sample):\n",
    "    FIPPI = eea.FIPPI()\n",
    "    FIPPI.extract(sample, q=2)\n",
    "    return FIPPI.get_idx()\n",
    "    #NFINDR.display()\n"
   ]
  },
  {
   "cell_type": "code",
   "execution_count": 32,
   "metadata": {
    "collapsed": true
   },
   "outputs": [],
   "source": [
    "def PPI(sample):\n",
    "    PPI = eea.PPI()\n",
    "    PPI.extract(sample, q=2)\n",
    "    return PPI.get_idx()\n",
    "    #NFINDR.display()\n"
   ]
  },
  {
   "cell_type": "code",
   "execution_count": 33,
   "metadata": {
    "collapsed": false
   },
   "outputs": [],
   "source": [
    "#Endmembers per row\n",
    "def endmembersPerRow(cube):\n",
    "    for sample in cube: \n",
    "        print sample + ':'\n",
    "        for i, row in enumerate(cube[sample]): \n",
    "            print \"row \" + str(i) + \":\"  \n",
    "            print \"row shape: \" + str(np.shape(row))\n",
    "            print ATGP(np.array([row]))\n",
    "            print NFINDR(np.array([row]))\n",
    "            print PPI(np.array([row]))\n",
    " \n"
   ]
  },
  {
   "cell_type": "code",
   "execution_count": 34,
   "metadata": {
    "collapsed": false
   },
   "outputs": [],
   "source": [
    "#Endmembers per sample\n",
    "ATGP_dict = {}\n",
    "NFINDR_dict = {}\n",
    "PPI_dict = {}\n",
    "\n",
    "\n",
    "for sample in dataCubesWithBackground: \n",
    "        ATGP_dict[sample] = ATGP(dataCubesWithBackground[sample])\n",
    "        NFINDR_dict[sample] = NFINDR(dataCubesWithBackground[sample])\n",
    "        PPI_dict[sample] = PPI(dataCubesWithBackground[sample])\n",
    "        \n",
    " \n"
   ]
  },
  {
   "cell_type": "code",
   "execution_count": 35,
   "metadata": {
    "collapsed": false
   },
   "outputs": [],
   "source": [
    "#endmembers per sample where endmember algorithms are run with normalized data \n",
    "\n",
    "ATGP_normalized_dict = {}\n",
    "NFINDR_normalized_dict = {}\n",
    "PPI_normalized_dict = {}\n",
    "for sample in normalizedDataCubesWithBackground: \n",
    "        ATGP_normalized_dict[sample] = ATGP(normalizedDataCubesWithBackground[sample])\n",
    "        NFINDR_normalized_dict[sample] = NFINDR(normalizedDataCubesWithBackground[sample])\n",
    "        PPI_normalized_dict[sample] = PPI(normalizedDataCubesWithBackground[sample])"
   ]
  },
  {
   "cell_type": "code",
   "execution_count": 19,
   "metadata": {
    "collapsed": false
   },
   "outputs": [],
   "source": [
    "endmember_dicts = {'ATGP':ATGP_dict, 'NFINDR':NFINDR_dict, 'PPI':PPI_dict}\n",
    "endmember_normalized_dicts = {'ATGP':ATGP_normalized_dict, 'NFINDR':NFINDR_normalized_dict, 'PPI':PPI_normalized_dict}\n",
    "#np.save('endmember_dicts.npy', endmember_dicts)\n",
    "#np.save('endmember_normalized_dicts.npy', endmember_normalized_dicts)"
   ]
  },
  {
   "cell_type": "code",
   "execution_count": 45,
   "metadata": {
    "collapsed": false
   },
   "outputs": [
    {
     "name": "stdout",
     "output_type": "stream",
     "text": [
      "[(3, 0), (10, 0)]\n",
      "[  75.41955556    6.86        140.18488889  100.78888889    3.05066667\n",
      "   62.10644444]\n",
      "[ 0.19178039  0.42888403  0.16883846  0.10639933  0.12734989  0.04800628]\n",
      "[  75.41955556    6.86        140.18488889  100.78888889    3.05066667\n",
      "   62.10644444]\n",
      "[ 0.19178039  0.42888403  0.16883846  0.10639933  0.12734989  0.04800628]\n",
      "[  75.41955556    6.86        140.18488889  100.78888889    3.05066667\n",
      "   62.10644444]\n",
      "[ 0.19178039  0.42888403  0.16883846  0.10639933  0.12734989  0.04800628]\n",
      "[  75.41955556    6.86        140.18488889  100.78888889    3.05066667\n",
      "   62.10644444]\n",
      "[ 0.19178039  0.42888403  0.16883846  0.10639933  0.12734989  0.04800628]\n",
      "[  75.41955556    6.86        140.18488889  100.78888889    3.05066667\n",
      "   62.10644444]\n",
      "[ 0.19178039  0.42888403  0.16883846  0.10639933  0.12734989  0.04800628]\n",
      "[  75.41955556    6.86        140.18488889  100.78888889    3.05066667\n",
      "   62.10644444]\n",
      "[ 0.19178039  0.42888403  0.16883846  0.10639933  0.12734989  0.04800628]\n",
      "[  75.41955556    6.86        140.18488889  100.78888889    3.05066667\n",
      "   62.10644444]\n",
      "[ 0.19178039  0.42888403  0.16883846  0.10639933  0.12734989  0.04800628]\n",
      "[  75.41955556    6.86        140.18488889  100.78888889    3.05066667\n",
      "   62.10644444]\n",
      "[ 0.19178039  0.42888403  0.16883846  0.10639933  0.12734989  0.04800628]\n",
      "[  75.41955556    6.86        140.18488889  100.78888889    3.05066667\n",
      "   62.10644444]\n",
      "[ 0.19178039  0.42888403  0.16883846  0.10639933  0.12734989  0.04800628]\n",
      "[  75.41955556    6.86        140.18488889  100.78888889    3.05066667\n",
      "   62.10644444]\n",
      "[ 0.19178039  0.42888403  0.16883846  0.10639933  0.12734989  0.04800628]\n",
      "[  75.41955556    6.86        140.18488889  100.78888889    3.05066667\n",
      "   62.10644444]\n",
      "[ 0.19178039  0.42888403  0.16883846  0.10639933  0.12734989  0.04800628]\n",
      "[  75.41955556    6.86        140.18488889  100.78888889    3.05066667\n",
      "   62.10644444]\n",
      "[ 0.19178039  0.42888403  0.16883846  0.10639933  0.12734989  0.04800628]\n",
      "[  75.41955556    6.86        140.18488889  100.78888889    3.05066667\n",
      "   62.10644444]\n",
      "[ 0.19178039  0.42888403  0.16883846  0.10639933  0.12734989  0.04800628]\n",
      "[  75.41955556    6.86        140.18488889  100.78888889    3.05066667\n",
      "   62.10644444]\n",
      "[ 0.19178039  0.42888403  0.16883846  0.10639933  0.12734989  0.04800628]\n",
      "[  75.41955556    6.86        140.18488889  100.78888889    3.05066667\n",
      "   62.10644444]\n",
      "[ 0.19178039  0.42888403  0.16883846  0.10639933  0.12734989  0.04800628]\n",
      "[  75.41955556    6.86        140.18488889  100.78888889    3.05066667\n",
      "   62.10644444]\n",
      "[ 0.19178039  0.42888403  0.16883846  0.10639933  0.12734989  0.04800628]\n",
      "[  75.41955556    6.86        140.18488889  100.78888889    3.05066667\n",
      "   62.10644444]\n",
      "[ 0.19178039  0.42888403  0.16883846  0.10639933  0.12734989  0.04800628]\n",
      "[  75.41955556    6.86        140.18488889  100.78888889    3.05066667\n",
      "   62.10644444]\n",
      "[ 0.19178039  0.42888403  0.16883846  0.10639933  0.12734989  0.04800628]\n",
      "[  75.41955556    6.86        140.18488889  100.78888889    3.05066667\n",
      "   62.10644444]\n",
      "[ 0.19178039  0.42888403  0.16883846  0.10639933  0.12734989  0.04800628]\n",
      "[  75.41955556    6.86        140.18488889  100.78888889    3.05066667\n",
      "   62.10644444]\n",
      "[ 0.19178039  0.42888403  0.16883846  0.10639933  0.12734989  0.04800628]\n",
      "[  75.41955556    6.86        140.18488889  100.78888889    3.05066667\n",
      "   62.10644444]\n",
      "[ 0.19178039  0.42888403  0.16883846  0.10639933  0.12734989  0.04800628]\n",
      "[  75.41955556    6.86        140.18488889  100.78888889    3.05066667\n",
      "   62.10644444]\n",
      "[ 0.19178039  0.42888403  0.16883846  0.10639933  0.12734989  0.04800628]\n",
      "[  75.41955556    6.86        140.18488889  100.78888889    3.05066667\n",
      "   62.10644444]\n",
      "[ 0.19178039  0.42888403  0.16883846  0.10639933  0.12734989  0.04800628]\n"
     ]
    }
   ],
   "source": [
    " \n",
    "colors = get_spaced_colors(100) \n",
    "band = np.array([610,680,730,760,810,860])\n",
    "endmember_colors = ['yellow','orange','lime']\n",
    "\n",
    "def SpectralPlotsWithEndmembers(cube,algorithm,my_endmember_dict):\n",
    "    endmember_dict = my_endmember_dict[algorithm]; \n",
    "    background = np.array(backgroundCubes['CallibrationReadingFar']) / NormalizationMaxVals\n",
    "    for sample in cube: \n",
    "        #print sample\n",
    "        linearized = util.convert2d(cube[sample])       \n",
    "        for i, (a,b) in enumerate(endmember_dict[sample]): \n",
    "            plt.plot(band,cube[sample][b][a],color=endmember_colors[i], linewidth='8')\n",
    "            #print str((a,b)) + ': ' + endmember_colors[i]\n",
    "        plt.plot(band,np.transpose(linearized))\n",
    "        plt.title(sample)\n",
    "        plt.xlabel('Wavelength (nm)')\n",
    "        plt.ylabel('Intensity (counts)')\n",
    "        print backgroundCubes['CallibrationReadingFar']\n",
    "        print background\n",
    "        plt.plot(band,background,color='black',linewidth='3')\n",
    "        #plt.plot(band,backgroundCubes['VelvetFar']/getNormalizationMaxVals(cube),color='black',linewidth='3')\n",
    "        #plt.show()\n",
    "        plt.figure(num=1, figsize=(8, 6))\n",
    "        plt.savefig('../Results/EndmembersNormalized/' + algorithm + '/' + sample)\n",
    "        plt.clf()\n",
    "\n",
    "print endmember_normalized_dicts['ATGP']['Soku']\n",
    "#SpectralPlotsWithEndmembers(normalizedDataCubesWithBackground, 'ATGP',endmember_normalized_dicts)\n",
    "#SpectralPlotsWithEndmembers(normalizedDataCubesWithBackground, 'NFINDR',endmember_normalized_dicts)\n",
    "#SpectralPlotsWithEndmembers(normalizedDataCubesWithBackground, 'PPI',endmember_normalized_dicts)\n",
    "#SpectralPlotsWithEndmembers(dataCubesWithBackground, 'ATGP',endmember_dicts)\n",
    "SpectralPlotsWithEndmembers(dataCubesWithBackground, 'NFINDR',endmember_dicts)\n",
    "#SpectralPlotsWithEndmembers(dataCubesWithBackground, 'PPI',endmember_dicts)"
   ]
  },
  {
   "cell_type": "code",
   "execution_count": null,
   "metadata": {
    "collapsed": false
   },
   "outputs": [],
   "source": [
    "#DECISION: USE ENDMEMBERS SUPPLIED BY NFINDR ALGORITHM \n",
    "fully_constrained_abundance_map_dict = {}\n",
    "\n",
    "def makeAbundanceMaps(cube,endmember_dicts):\n",
    "    for sample in cube:\n",
    "        data = cube[sample]\n",
    "        endmember_indices = NFINDR_dict[sample]\n",
    "        endmembers = np.array([data[b][a] for (a,b) in endmember_indices])\n",
    "\n",
    "        unmixed_unconstrained = amap.UCLS()\n",
    "        unconstrained_abundance_map = unmixed_unconstrained.map(data, endmembers) \n",
    "\n",
    "        unmixed_nonnegative_constrained = amap.NNLS()\n",
    "        nonnegative_abundance_map = unmixed_nonnegative_constrained.map(data, endmembers) \n",
    "\n",
    "        unmixed_fully_constrained = amap.FCLS()\n",
    "        fully_constrained_abundance_map = unmixed_fully_constrained.map(data, endmembers) \n",
    "        fully_constrained_abundance_map_dict[sample] = fully_constrained_abundance_map\n",
    "        #os.mkdir('./' + sample)\n",
    "        #unmixed_fully_constrained.plot('./' + sample)\n",
    "makeAbundanceMaps(normalizedDataCubesWithBackground,endmember_normalized_dicts)"
   ]
  },
  {
   "cell_type": "code",
   "execution_count": null,
   "metadata": {
    "collapsed": false
   },
   "outputs": [],
   "source": [
    "#small hack to determine which endmember corresponds to the black background based on me \n",
    "#manually adding a column of black pixels to the data array\n",
    "\n",
    "def whichisblack(abundance_map):\n",
    "    black = 0\n",
    "    #print \"which is black? \" + str(abundance_map[0][16][0]) + 'vs.' + str(abundance_map[0][16][1])\n",
    "    if abundance_map[0][16][0] > 0.94:\n",
    "        return 0\n",
    "    elif abundance_map[0][16][1] > 0.94: \n",
    "        return 1\n",
    "    else:\n",
    "        return \"error\""
   ]
  },
  {
   "cell_type": "code",
   "execution_count": null,
   "metadata": {
    "collapsed": false
   },
   "outputs": [],
   "source": [
    "#NEXT DECISION: USE FULLY CONSTRAINED MAP (IE NON NEGATIVE AND SUMS TO 1)\n",
    "\n",
    "pure_signal_dict = {}\n",
    "black_endmember = backgroundCubes['CallibrationReadingFar'] \n",
    "normalized_black_endmember = backgroundCubes['CallibrationReadingFar'] / NormalizationMaxVals\n",
    "def extractSignalFromBackground(cube,endmember_dict,my_black_endmember):\n",
    "    for sample in cube: \n",
    "        #note that this dict is set based on how makeabundancemap function above is run (ie/normalized vs not)\n",
    "        abundance_map = fully_constrained_abundance_map_dict[sample]\n",
    "        endmember_indices = endmember_dict[sample]\n",
    "        data = dataCubesWithBackground[sample]\n",
    "        endmembers = np.array([data[b][a] for (a,b) in endmember_indices])\n",
    "\n",
    "        #print abundance_map\n",
    "        black = whichisblack(abundance_map)\n",
    "        #print black\n",
    "        if black == 0:\n",
    "            signal = 1\n",
    "        else:\n",
    "            signal = 0\n",
    "\n",
    "        pixels = []\n",
    "        for i, row in enumerate(cube[sample]): \n",
    "            for j, pixel in enumerate(row): \n",
    "                #print pixel\n",
    "                #note how below I'm using my far reading endmember for all samples. Could be worth correcting\n",
    "                #but based on the plots I've seen, the black readings are close enough to each other relative to signal\n",
    "                #that I'm not extremely worried for my first round of analysis \n",
    "                #print i\n",
    "                #print j\n",
    "                #print signal\n",
    "                if abundance_map[i][j][signal] > 0.75:\n",
    "                    extracted_signal_in_pixel = (cube[sample][i][j] - abundance_map[i][j][black] * my_black_endmember ) / abundance_map[i][j][signal]\n",
    "                    pixels.append(extracted_signal_in_pixel)\n",
    "        pure_signal_dict[sample] = pixels\n",
    "\n",
    "extractSignalFromBackground(normalizedDataCubesWithBackground,endmember_normalized_dicts['NFINDR'],normalized_black_endmember)  \n",
    "\n",
    "    \n",
    "    "
   ]
  },
  {
   "cell_type": "code",
   "execution_count": null,
   "metadata": {
    "collapsed": true
   },
   "outputs": [],
   "source": [
    "np.save('pure_signal_dict.npy', pure_signal_dict)  "
   ]
  },
  {
   "cell_type": "code",
   "execution_count": null,
   "metadata": {
    "collapsed": false
   },
   "outputs": [],
   "source": [
    "colors = get_spaced_colors(100) \n",
    "band = np.array([610,680,730,760,810,860])\n",
    "#highestthreshold: 0.85\n",
    "#highthreshold: 0.75\n",
    "#lowthreshold: 0.5\n",
    "def plotExtractedSignals(pure_signal_dict):\n",
    "    print len(pure_signal_dict)\n",
    "    for sample in pure_signal_dict:\n",
    "        plt.clf()\n",
    "        data = pure_signal_dict[sample]\n",
    "        print sample\n",
    "        print np.shape(data)\n",
    "        plt.plot(band,np.transpose(data))\n",
    "        plt.title(sample)\n",
    "        #plt.ylim([0,1])\n",
    "        #plt.show()\n",
    "        #os.mkdir('./' + sample)\n",
    "        plt.savefig('../Results/NormalizedExtractedSignalsHighThreshold/' + sample + '.pdf')\n",
    "         \n",
    "\n",
    "plotExtractedSignals(pure_signal_dict)\n",
    "#plotPureSignals(pure_signal_dict)\n",
    "#NOTE: HORRIBLE HORRIBLE RESULTS!!! Maybe try just non negative constrained? \n",
    "#DECISION FOR NOW: USE CLASSIFICATION INSTEAD "
   ]
  },
  {
   "cell_type": "code",
   "execution_count": null,
   "metadata": {
    "collapsed": false
   },
   "outputs": [],
   "source": [
    "purest_pixels_dict = {}\n",
    "\n",
    "def populatePurestPixelsDict(cube):\n",
    "    classification = clssf.AbundanceClassification()\n",
    "    for sample in cube:\n",
    "        abundancemap = fully_constrained_abundance_map_dict[sample]\n",
    "        classified_pixels = classification.classify(abundancemap,0.3)\n",
    "\n",
    "        black = classified_pixels[0][16]\n",
    "        if black == 2: \n",
    "            signal = 1\n",
    "        else:\n",
    "            signal = 2\n",
    "        pixel_array = []\n",
    "        for i,row in enumerate(classified_pixels): \n",
    "            for j,column in enumerate(row):\n",
    "                if classified_pixels[i][j] == signal: \n",
    "                    pixel_array.append(cube[sample][i][j])\n",
    "        purest_pixels_dict[sample] = pixel_array\n",
    "    #classification.plot('./ExtractedSignals/' + sample + '/')\n",
    "#print np.shape(dataCubesWithBackground['Allende'])\n",
    "#print np.shape(purest_pixels_dict['Allende'])\n",
    "populatePurestPixelsDict(normalizedDataCubesWithBackground)"
   ]
  },
  {
   "cell_type": "code",
   "execution_count": null,
   "metadata": {
    "collapsed": false
   },
   "outputs": [],
   "source": [
    "def plot_purest_pixels(purest_pixels_dict):\n",
    "    for sample in purest_pixels_dict: \n",
    "        plt.plot(band,np.transpose(purest_pixels_dict[sample]))\n",
    "        #plt.show()\n",
    "        plt.savefig('../Results/NormalizedPurestPixels2/' + sample)\n",
    "        plt.clf()\n",
    "        \n",
    "plot_purest_pixels(purest_pixels_dict)"
   ]
  },
  {
   "cell_type": "code",
   "execution_count": null,
   "metadata": {
    "collapsed": true
   },
   "outputs": [],
   "source": [
    "np.save('purest_pixels_dict.npy', purest_pixels_dict)"
   ]
  },
  {
   "cell_type": "code",
   "execution_count": 1,
   "metadata": {
    "collapsed": false
   },
   "outputs": [
    {
     "ename": "NameError",
     "evalue": "name 'purest_pixels_dict' is not defined",
     "output_type": "error",
     "traceback": [
      "\u001b[0;31m---------------------------------------------------------------------------\u001b[0m",
      "\u001b[0;31mNameError\u001b[0m                                 Traceback (most recent call last)",
      "\u001b[0;32m<ipython-input-1-767175d64b07>\u001b[0m in \u001b[0;36m<module>\u001b[0;34m()\u001b[0m\n\u001b[1;32m      5\u001b[0m             \u001b[0msamplelist\u001b[0m\u001b[0;34m.\u001b[0m\u001b[0mappend\u001b[0m\u001b[0;34m(\u001b[0m\u001b[0mrow\u001b[0m\u001b[0;34m)\u001b[0m\u001b[0;34m\u001b[0m\u001b[0m\n\u001b[1;32m      6\u001b[0m     \u001b[0;32mreturn\u001b[0m \u001b[0mnp\u001b[0m\u001b[0;34m.\u001b[0m\u001b[0marray\u001b[0m\u001b[0;34m(\u001b[0m\u001b[0mnp\u001b[0m\u001b[0;34m.\u001b[0m\u001b[0mamax\u001b[0m\u001b[0;34m(\u001b[0m\u001b[0msamplelist\u001b[0m\u001b[0;34m,\u001b[0m \u001b[0maxis\u001b[0m\u001b[0;34m=\u001b[0m\u001b[0;36m0\u001b[0m\u001b[0;34m)\u001b[0m\u001b[0;34m)\u001b[0m\u001b[0;34m\u001b[0m\u001b[0m\n\u001b[0;32m----> 7\u001b[0;31m \u001b[0;32mprint\u001b[0m \u001b[0mgetNormalizationMaxVals\u001b[0m\u001b[0;34m(\u001b[0m\u001b[0mpurest_pixels_dict\u001b[0m\u001b[0;34m)\u001b[0m\u001b[0;34m\u001b[0m\u001b[0m\n\u001b[0m",
      "\u001b[0;31mNameError\u001b[0m: name 'purest_pixels_dict' is not defined"
     ]
    }
   ],
   "source": [
    "samplelist = []\n",
    "def getNormalizationMaxVals(purest_pixels_dict):\n",
    "    for sample in purest_pixels_dict:\n",
    "        for row in purest_pixels_dict[sample]:\n",
    "            samplelist.append(row)\n",
    "    return np.array(np.amax(samplelist, axis=0))\n",
    "print getNormalizationMaxVals(purest_pixels_dict)"
   ]
  },
  {
   "cell_type": "code",
   "execution_count": null,
   "metadata": {
    "collapsed": false
   },
   "outputs": [],
   "source": [
    "def plot_purest_pixels_normalized(purest_pixels_dict):\n",
    "    max_vals = NormalizationMaxVals\n",
    "    #print np.shape(max_vals)\n",
    "    for sample in purest_pixels_dict: \n",
    "        normalized_data = np.array(purest_pixels_dict[sample]) / np.array(max_vals)\n",
    "        normalized_data_transpose = np.transpose(normalized_data)\n",
    "        #print np.shape(normalized_data_transpose)\n",
    "        plt.plot(band,normalized_data_transpose)\n",
    "        #plt.show()\n",
    "        #os.mkdir('./Results/PurestPixelsNormalized/' + sample)\n",
    "        #plt.savefig('../Results/LateNormalizedPurestPixels2/' + sample)\n",
    "        plt.clf()\n",
    "        \n",
    "plot_purest_pixels_normalized(purest_pixels_dict)"
   ]
  },
  {
   "cell_type": "code",
   "execution_count": null,
   "metadata": {
    "collapsed": false
   },
   "outputs": [],
   "source": [
    "a = [1000,2000,3000,4000,5000,6000],[1000,2000,3000,4000,5000,6000]  \n",
    "#print np.shape(a)\n",
    "#print np.shape([getNormalizationMaxVals(purest_pixels_dict)])\n",
    "print \"max vals: \" + str(getNormalizationMaxVals(purest_pixels_dict))\n",
    "data = getNormalizationMaxVals(purest_pixels_dict)\n",
    "print np.divide(a,data)"
   ]
  },
  {
   "cell_type": "code",
   "execution_count": null,
   "metadata": {
    "collapsed": true
   },
   "outputs": [],
   "source": []
  }
 ],
 "metadata": {
  "kernelspec": {
   "display_name": "Python [default]",
   "language": "python",
   "name": "python2"
  },
  "language_info": {
   "codemirror_mode": {
    "name": "ipython",
    "version": 2
   },
   "file_extension": ".py",
   "mimetype": "text/x-python",
   "name": "python",
   "nbconvert_exporter": "python",
   "pygments_lexer": "ipython2",
   "version": "2.7.12"
  }
 },
 "nbformat": 4,
 "nbformat_minor": 0
}
