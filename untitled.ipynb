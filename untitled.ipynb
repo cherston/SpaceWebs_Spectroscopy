{
 "cells": [
  {
   "cell_type": "code",
   "execution_count": 71,
   "metadata": {
    "collapsed": false
   },
   "outputs": [],
   "source": [
    "%matplotlib inline\n",
    "import matplotlib.pyplot as plt\n",
    "\n",
    "SPECTRASUITE_DATA_FILE = 'SpectraSuiteData/HalogenReferenceSpectrumGavin.txt'\n",
    "import numpy as np\n",
    "bands = np.array([610,680,730,760,810,860])\n",
    "SILICON_SPECTRAL_RESPONSE = np.array([0.72,0.8,0.85,0.9,0.93,0.97])"
   ]
  },
  {
   "cell_type": "code",
   "execution_count": 77,
   "metadata": {
    "collapsed": false
   },
   "outputs": [
    {
     "name": "stdout",
     "output_type": "stream",
     "text": [
      "3649\n",
      "(1324,)\n",
      "(1324,)\n"
     ]
    },
    {
     "data": {
      "text/plain": [
       "[<matplotlib.lines.Line2D at 0x10dc24c10>]"
      ]
     },
     "execution_count": 77,
     "metadata": {},
     "output_type": "execute_result"
    },
    {
     "data": {
      "image/png": "[encoded data removed]",
      "text/plain": [
       "<matplotlib.figure.Figure at 0x10dc240d0>"
      ]
     },
     "metadata": {},
     "output_type": "display_data"
    }
   ],
   "source": [
    "data1 = np.array([2.7, 10.6, 25.4, 29.6, 10.1, 1.2])\n",
    "data_diffuse_1 = np.array([388.52,  314.23,  913.81, 933.96,  1126.89,  896.02])\n",
    "#print max(data1)\n",
    "#plt.plot(bands, data1/max(data1))\n",
    "(a,b) = plotSpectraSuiteData(SPECTRASUITE_DATA_FILE)\n",
    "\n",
    "plt.plot(a,b)\n",
    "#plt.plot(bands,data_diffuse_1/max(data_diffuse_1))\n",
    "plt.plot(bands,data_diffuse_1/max(data_diffuse_1)/SILICON_SPECTRAL_RESPONSE)\n",
    "#INSIGHT!!!!!!!!! WE DON'T WANT TO NORMALIZE THE DATA TO COMPARE IT!! "
   ]
  },
  {
   "cell_type": "code",
   "execution_count": 61,
   "metadata": {
    "collapsed": false
   },
   "outputs": [],
   "source": [
    "def plotSpectraSuiteData(filepath):\n",
    "    spectrasuite = open(filepath,'r')\n",
    "    bands = []\n",
    "    values = []\n",
    "    vals = []\n",
    "    data = spectrasuite.read().split('\\n')\n",
    "    #print data\n",
    " \n",
    "    #plt.plot(data[0].split('\\t')[0],data[0].split('\\t')[1])\n",
    "    #print a[1290]\n",
    "    #print a[2615]\n",
    "    for i, row in enumerate(data):\n",
    "            vals.append([a for a in row.split('\\t')])\n",
    "    print len(vals)\n",
    "    \n",
    "    def inbound(j): \n",
    "        return j > 1290 or j < 2615\n",
    "    \n",
    "    for i, val in enumerate(vals):\n",
    "        if(val[0] and val[1]):\n",
    "            if(i > 1290):\n",
    "                if(i < 2615): \n",
    "                #print i\n",
    "                    bands.append(float(val[0]))\n",
    "                    values.append(float(val[1]))   \n",
    "    print np.shape(bands)\n",
    "    print np.shape(values)\n",
    "    maxval = np.max(values)\n",
    "    normalized_values = [a / maxval for a in values]\n",
    "    #print bands[1910]\n",
    "    #print normalized_values[1910]\n",
    "    added_bands = [a for a in bands]\n",
    "    \n",
    "    return ((added_bands,np.transpose(normalized_values)))\n",
    "    #plt.plot(added_bands,np.transpose(normalized_values),label='Ocean Optics USB4000')"
   ]
  },
  {
   "cell_type": "code",
   "execution_count": 31,
   "metadata": {
    "collapsed": false
   },
   "outputs": [
    {
     "name": "stdout",
     "output_type": "stream",
     "text": [
      "[2, 3, 4]\n"
     ]
    }
   ],
   "source": [
    "a = [1,2,3,4,5]\n",
    "print a[1:4]"
   ]
  },
  {
   "cell_type": "code",
   "execution_count": null,
   "metadata": {
    "collapsed": true
   },
   "outputs": [],
   "source": []
  }
 ],
 "metadata": {
  "kernelspec": {
   "display_name": "Python [default]",
   "language": "python",
   "name": "python2"
  },
  "language_info": {
   "codemirror_mode": {
    "name": "ipython",
    "version": 2
   },
   "file_extension": ".py",
   "mimetype": "text/x-python",
   "name": "python",
   "nbconvert_exporter": "python",
   "pygments_lexer": "ipython2",
   "version": "2.7.12"
  }
 },
 "nbformat": 4,
 "nbformat_minor": 0
}
